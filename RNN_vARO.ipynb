{
  "cells": [
    {
      "cell_type": "markdown",
      "id": "fd6c6d11",
      "metadata": {},
      "source": [
        "# Imports"
      ]
    },
    {
      "cell_type": "code",
      "execution_count": 101,
      "id": "c3acd370",
      "metadata": {
        "colab": {
          "base_uri": "https://localhost:8080/"
        },
        "id": "c3acd370",
        "outputId": "17425e97-1766-41e8-e392-84beb38a0972"
      },
      "outputs": [
        {
          "name": "stdout",
          "output_type": "stream",
          "text": [
            "The autoreload extension is already loaded. To reload it, use:\n",
            "  %reload_ext autoreload\n"
          ]
        }
      ],
      "source": [
        "%load_ext autoreload\n",
        "%autoreload 2\n",
        "\n",
        "import numpy as np\n",
        "import pandas as pd\n",
        "import seaborn as sns\n",
        "import matplotlib.pyplot as plt\n",
        "\n",
        "from tensorflow.keras import layers\n",
        "from tensorflow.keras.models import Sequential\n",
        "from tensorflow.keras.optimizers.schedules import ExponentialDecay\n",
        "from tensorflow.keras.optimizers import Adam\n",
        "from tensorflow.keras.layers.experimental.preprocessing import Normalization\n",
        "from tensorflow.math import reduce_mean\n",
        "from tensorflow import convert_to_tensor\n",
        "\n",
        "from model import plot_history, get_Xi_yi, get_X_y, get_folds, train_test_split_fold, MinMaxNormalization\n",
        "from cleaning import get_clean_bikes_dataframe\n"
      ]
    },
    {
      "cell_type": "markdown",
      "id": "690f8305",
      "metadata": {},
      "source": [
        "# Key cells"
      ]
    },
    {
      "cell_type": "code",
      "execution_count": 2,
      "id": "c1059b8c",
      "metadata": {},
      "outputs": [],
      "source": [
        "colab = False\n",
        "station_sequence = False\n",
        "diff = False"
      ]
    },
    {
      "cell_type": "code",
      "execution_count": 3,
      "id": "cacf6cc8",
      "metadata": {
        "id": "cacf6cc8"
      },
      "outputs": [],
      "source": [
        "INPUT_LENGTH = int(1*12) # 1 hours * 12 stamps per hour"
      ]
    },
    {
      "cell_type": "code",
      "execution_count": 4,
      "id": "61507021",
      "metadata": {
        "id": "61507021"
      },
      "outputs": [],
      "source": [
        "N_TRAIN = 10000 # number_of_sequences_train\n",
        "N_TEST =  5000 # number_of_sequences_test"
      ]
    },
    {
      "cell_type": "code",
      "execution_count": 5,
      "id": "VpxbxCxVXTRU",
      "metadata": {
        "colab": {
          "base_uri": "https://localhost:8080/"
        },
        "id": "VpxbxCxVXTRU",
        "outputId": "199848f4-ff27-494d-d8da-aafd4b6321e0"
      },
      "outputs": [],
      "source": [
        "if colab :\n",
        "    from google.colab import drive\n",
        "    drive.mount('/content/drive')"
      ]
    },
    {
      "cell_type": "markdown",
      "id": "GS8-3PRJ0Cls",
      "metadata": {
        "id": "GS8-3PRJ0Cls"
      },
      "source": [
        "# Data Loading"
      ]
    },
    {
      "cell_type": "code",
      "execution_count": 6,
      "id": "3ed85b43",
      "metadata": {
        "id": "3ed85b43"
      },
      "outputs": [
        {
          "name": "stdout",
          "output_type": "stream",
          "text": [
            "DataFrame successfully loaded from ~/.velov/data/cleaned/all_stations_hist.csv.\n"
          ]
        }
      ],
      "source": [
        "if colab :\n",
        "    bikes_df = pd.read_csv('bikes_df.csv').drop(columns='Unnamed: 0')\n",
        "else :\n",
        "    bikes_df = get_clean_bikes_dataframe()"
      ]
    },
    {
      "cell_type": "code",
      "execution_count": 7,
      "id": "da78bada",
      "metadata": {
        "id": "da78bada"
      },
      "outputs": [],
      "source": [
        "step = 5\n",
        "step_str = f'{step}min'\n",
        "\n",
        "bikes_df=bikes_df.sort_values(by=\"time\")\n",
        "bikes_df['time']=pd.to_datetime(bikes_df['time'])\n",
        "bikes_df = bikes_df.resample(step_str, on='time').mean()\n",
        "\n",
        "if diff:\n",
        "    for col in bikes_df.columns:\n",
        "        bikes_df[col] = bikes_df[col].diff()\n",
        "    bikes_df.dropna(inplace=True)"
      ]
    },
    {
      "cell_type": "code",
      "execution_count": 8,
      "id": "1bdfdafd",
      "metadata": {},
      "outputs": [],
      "source": [
        "# To verify normal distribution of diffs\n",
        "\n",
        "#if diff:\n",
        "#    bins = np.linspace(-39.75,39.75,num=80)\n",
        "#    diffs = np.array(bikes_df).reshape(bikes_df.shape[0]*bikes_df.shape[1])\n",
        "#    sns.histplot(diffs, bins=bins);"
      ]
    },
    {
      "cell_type": "markdown",
      "id": "dde48d5d",
      "metadata": {
        "id": "dde48d5d"
      },
      "source": [
        "# Folding"
      ]
    },
    {
      "cell_type": "code",
      "execution_count": 9,
      "id": "c75b4d57",
      "metadata": {
        "id": "c75b4d57"
      },
      "outputs": [
        {
          "name": "stdout",
          "output_type": "stream",
          "text": [
            "43718 1 12\n"
          ]
        }
      ],
      "source": [
        "FOLD_LENGTH = bikes_df.shape[0] # int(24 * 12 * 61) # 24 hours per day, 12 stamps per hour, 61 days\n",
        "    \n",
        "FOLD_STRIDE = 1 #int(24 * 12 * 7) # 1 week\n",
        "\n",
        "TRAIN_TEST_RATIO = 0.7\n",
        "\n",
        "print(FOLD_LENGTH, FOLD_STRIDE, INPUT_LENGTH)"
      ]
    },
    {
      "cell_type": "code",
      "execution_count": 10,
      "id": "24be5a13",
      "metadata": {
        "colab": {
          "base_uri": "https://localhost:8080/"
        },
        "id": "24be5a13",
        "outputId": "b788f8a5-7d31-4d47-b726-5a90ea9d644c"
      },
      "outputs": [
        {
          "name": "stdout",
          "output_type": "stream",
          "text": [
            "There are 1 folds.\n"
          ]
        }
      ],
      "source": [
        "bikes_folds = get_folds(bikes_df, FOLD_LENGTH, FOLD_STRIDE)\n",
        "bikes_fold = bikes_folds[0]"
      ]
    },
    {
      "cell_type": "code",
      "execution_count": 11,
      "id": "992927ec",
      "metadata": {
        "colab": {
          "base_uri": "https://localhost:8080/"
        },
        "id": "992927ec",
        "outputId": "19eb05f1-6d35-4654-8e74-ffac905b37b7",
        "scrolled": true
      },
      "outputs": [
        {
          "name": "stdout",
          "output_type": "stream",
          "text": [
            "The train split contains 30603 observations and the test split 13115 observations.\n"
          ]
        }
      ],
      "source": [
        "(bikes_fold_train, bikes_fold_test) = train_test_split_fold(bikes_fold, TRAIN_TEST_RATIO, INPUT_LENGTH)"
      ]
    },
    {
      "cell_type": "code",
      "execution_count": 12,
      "id": "975942f6",
      "metadata": {
        "id": "975942f6"
      },
      "outputs": [],
      "source": [
        "OUTPUT_LENGTH = INPUT_LENGTH\n",
        "SEQUENCE_STRIDE = 1"
      ]
    },
    {
      "cell_type": "markdown",
      "id": "fOzd784zWGyX",
      "metadata": {
        "id": "fOzd784zWGyX"
      },
      "source": [
        "# Train/Test split\n"
      ]
    },
    {
      "cell_type": "code",
      "execution_count": 13,
      "id": "16105cc0",
      "metadata": {
        "colab": {
          "base_uri": "https://localhost:8080/"
        },
        "id": "16105cc0",
        "outputId": "d9a05221-0be4-41c3-cf5e-851307628d9d"
      },
      "outputs": [
        {
          "data": {
            "text/plain": [
              "((10000, 12, 430), (10000, 12, 430), (5000, 12, 430), (5000, 12, 430))"
            ]
          },
          "execution_count": 13,
          "metadata": {},
          "output_type": "execute_result"
        }
      ],
      "source": [
        "X_train_bikes, y_train_bikes = get_X_y(bikes_fold_train, N_TRAIN, INPUT_LENGTH, OUTPUT_LENGTH)\n",
        "X_test_bikes, y_test_bikes = get_X_y(bikes_fold_test, N_TEST, INPUT_LENGTH, OUTPUT_LENGTH)\n",
        "\n",
        "X_train_bikes.shape, y_train_bikes.shape, X_test_bikes.shape, y_test_bikes.shape"
      ]
    },
    {
      "cell_type": "code",
      "execution_count": 14,
      "id": "5b23d510",
      "metadata": {
        "colab": {
          "base_uri": "https://localhost:8080/",
          "height": 0
        },
        "id": "5b23d510",
        "outputId": "f4bd0179-d380-4613-d739-496ea965e00d"
      },
      "outputs": [],
      "source": [
        "if station_sequence == True :\n",
        "    # Pour passer en v Station = Sequence\n",
        "    X_train_bikes = np.array(pd.DataFrame(X_train_bikes[0]).transpose())\n",
        "    X_test_bikes = np.array(pd.DataFrame(X_test_bikes[0]).transpose())\n",
        "    y_train_bikes = np.array(pd.DataFrame(y_train_bikes[0]).transpose())\n",
        "    y_test_bikes = np.array(pd.DataFrame(y_test_bikes[0]).transpose())\n",
        "\n",
        "    X_train_bikes = X_train_bikes.reshape((430,INPUT_LENGTH,1))\n",
        "    X_test_bikes = X_test_bikes.reshape((430,INPUT_LENGTH,1))\n",
        "    y_train_bikes = y_train_bikes.reshape((430,OUTPUT_LENGTH))\n",
        "    y_test_bikes = y_test_bikes.reshape((430,OUTPUT_LENGTH))\n",
        "\n",
        "    print(X_train_bikes.shape, y_train_bikes.shape, X_test_bikes.shape, y_test_bikes.shape) \n"
      ]
    },
    {
      "cell_type": "markdown",
      "id": "v6FAGMmm0-Vb",
      "metadata": {
        "id": "v6FAGMmm0-Vb"
      },
      "source": [
        "# Baseline Model "
      ]
    },
    {
      "cell_type": "code",
      "execution_count": 15,
      "id": "BLmB3Cfn1CN9",
      "metadata": {
        "colab": {
          "base_uri": "https://localhost:8080/"
        },
        "id": "BLmB3Cfn1CN9",
        "outputId": "27e18d4b-aab0-4cf4-ad1c-49471e90a621"
      },
      "outputs": [],
      "source": [
        "if not diff:\n",
        "    y_base_bikes = []\n",
        "    for i in range(y_test_bikes.shape[0]):\n",
        "        y_base_bikes.append([X_test_bikes[i,-1:,:]]*y_test_bikes.shape[1])\n",
        "\n",
        "    y_base_bikes = np.array(y_base_bikes).reshape((y_test_bikes.shape[0],y_test_bikes.shape[1],y_test_bikes.shape[2]))\n",
        "    y_base_bikes.shape"
      ]
    },
    {
      "cell_type": "code",
      "execution_count": 16,
      "id": "-31qhGev1PzM",
      "metadata": {
        "colab": {
          "base_uri": "https://localhost:8080/"
        },
        "id": "-31qhGev1PzM",
        "outputId": "a4794a15-ab7a-4409-b86e-dc7aecfd9900"
      },
      "outputs": [
        {
          "data": {
            "text/plain": [
              "0.946"
            ]
          },
          "execution_count": 16,
          "metadata": {},
          "output_type": "execute_result"
        }
      ],
      "source": [
        "if diff:\n",
        "    mae = round(np.abs(y_test_bikes).mean(),4)\n",
        "else :\n",
        "    mae = round(np.abs(y_test_bikes-y_base_bikes).mean(),4)\n",
        "mae"
      ]
    },
    {
      "cell_type": "code",
      "execution_count": 17,
      "id": "PKFofYlt3Smc",
      "metadata": {
        "colab": {
          "base_uri": "https://localhost:8080/",
          "height": 282
        },
        "id": "PKFofYlt3Smc",
        "outputId": "e411c780-a802-44c1-e10e-78f9022bc722"
      },
      "outputs": [
        {
          "name": "stdout",
          "output_type": "stream",
          "text": [
            "[0.25, 0.44, 0.59, 0.72, 0.84, 0.94, 1.04, 1.13, 1.22, 1.31, 1.4, 1.47]\n"
          ]
        },
        {
          "data": {
            "image/png": "[encoded data removed]",
            "text/plain": [
              "<Figure size 640x480 with 1 Axes>"
            ]
          },
          "metadata": {},
          "output_type": "display_data"
        }
      ],
      "source": [
        "maes = []\n",
        "\n",
        "for i in range(y_test_bikes.shape[1]):\n",
        "    if diff:\n",
        "        maes.append(np.round(np.abs(y_test_bikes[:,i,:]).mean(),4))\n",
        "    else:\n",
        "        maes.append(np.round(np.abs(y_test_bikes[:,i,:]-y_base_bikes[:,i,:]).mean(),2))\n",
        "\n",
        "print(maes)\n",
        "plt.plot(maes);"
      ]
    },
    {
      "cell_type": "markdown",
      "id": "89136f90",
      "metadata": {},
      "source": [
        "# Scaling and scoring the Baseline on scaled"
      ]
    },
    {
      "cell_type": "code",
      "execution_count": 18,
      "id": "Uj7fpWKu_QZ9",
      "metadata": {
        "colab": {
          "base_uri": "https://localhost:8080/"
        },
        "id": "Uj7fpWKu_QZ9",
        "outputId": "7d7c27eb-246d-4cda-af90-fe8762462d1e"
      },
      "outputs": [
        {
          "name": "stdout",
          "output_type": "stream",
          "text": [
            "X_train : Shape (10000, 12, 430), min 0.0, max 1.0\n",
            "y_train : Shape (10000, 12, 430), min 0.0, max 1.0\n",
            "X_test : Shape (5000, 12, 430), min 0.0, max 15.0\n",
            "y_test : Shape (5000, 12, 430), min 0.0, max 15.0\n"
          ]
        }
      ],
      "source": [
        "if not diff:\n",
        "    scaler = MinMaxNormalization()\n",
        "    scaler.fit_transform(X_train_bikes)\n",
        "    scaler.transform(y_train_bikes)\n",
        "    scaler.transform(X_test_bikes)\n",
        "    scaler.transform(y_test_bikes)\n",
        "    print(f\"X_train : Shape {X_train_bikes.shape}, min {X_train_bikes.min()}, max {X_train_bikes.max()}\")\n",
        "    print(f\"y_train : Shape {y_train_bikes.shape}, min {y_train_bikes.min()}, max {y_train_bikes.max()}\")\n",
        "    print(f\"X_test : Shape {X_test_bikes.shape}, min {X_test_bikes.min()}, max {X_test_bikes.max()}\")\n",
        "    print(f\"y_test : Shape {y_test_bikes.shape}, min {y_test_bikes.min()}, max {y_test_bikes.max()}\")"
      ]
    },
    {
      "cell_type": "code",
      "execution_count": 19,
      "id": "lX7KL46LqqO8",
      "metadata": {
        "colab": {
          "base_uri": "https://localhost:8080/"
        },
        "id": "lX7KL46LqqO8",
        "outputId": "7cefcef7-4674-4626-8bc2-b7eb6ac57008"
      },
      "outputs": [
        {
          "name": "stdout",
          "output_type": "stream",
          "text": [
            "0.0479\n"
          ]
        }
      ],
      "source": [
        "if not diff:\n",
        "    scaler.transform(y_base_bikes)\n",
        "    scaled_base_mae = round(np.abs(y_test_bikes-y_base_bikes).mean(),4)\n",
        "    scaled_base_mae\n",
        "    print(scaled_base_mae)\n"
      ]
    },
    {
      "cell_type": "markdown",
      "id": "bfb81060",
      "metadata": {},
      "source": [
        "# Custom Loss to penalize more later predictions (and keep the baseline for early preditctions)"
      ]
    },
    {
      "cell_type": "code",
      "execution_count": 163,
      "id": "6e414819",
      "metadata": {},
      "outputs": [
        {
          "data": {
            "text/plain": [
              "tensorflow.python.framework.ops.EagerTensor"
            ]
          },
          "execution_count": 163,
          "metadata": {},
          "output_type": "execute_result"
        }
      ],
      "source": [
        "import tensorflow\n",
        "\n",
        "a = tensorflow.constant([[1, 2], [3, 4]])                 \n",
        "b = tensorflow.add(a, 1)\n",
        "c = a.numpy()\n",
        "for i in range(c.shape[0]):\n",
        "    if i ==0 :\n",
        "        c[i] = (a[i]-b[i]) **2\n",
        "    else :\n",
        "        c[i] = -(a[i]-b[i]) **2\n",
        "\n",
        "\n",
        "type(convert_to_tensor(c))   "
      ]
    },
    {
      "cell_type": "code",
      "execution_count": 181,
      "id": "ca3aba55",
      "metadata": {},
      "outputs": [],
      "source": [
        "low_threshold = 12\n",
        "high_threshold = 12\n",
        "penalization = 4\n",
        "\n",
        "#def make_custom_mse(low_threshold:int=1_000_000_000_000, high_threshold:int=1_000_000_000_000):\n",
        "#    def custom_mse(y_true, y_pred):\n",
        "#        tmp = np.zeros(shape=(y_true.shape[0],y_true.shape[1]))\n",
        "#        for i in range(y_true.shape[0]):\n",
        "#            if i < low_threshold:\n",
        "#                tmp[i] = ((y_true[i]-y_pred[i])**2)\n",
        "#            elif i < high_threshold :\n",
        "#                tmp[i] = ((y_true[i]-y_pred[i])**2) * penalization\n",
        "#            else :\n",
        "#                pass # Custom loss still returns 0       \n",
        "#        return reduce_mean(reduce_mean(tmp, axis=-1),axis=0)\n",
        "#    return custom_mse\n",
        "\n",
        "def make_custom_mae(batch_size:int, low_threshold:int=1_000_000_000_000, high_threshold:int=1_000_000_000_000):\n",
        "    def custom_mae(y_true, y_pred):\n",
        "        tmp = np.zeros(shape=y_true.shape)\n",
        "        for i in range(y_true.shape[1]):\n",
        "            if i < high_threshold :\n",
        "                tmp[i] = np.abs(y_true[i]-y_pred[i])\n",
        "            else :\n",
        "                pass # Custom loss still returns 0       \n",
        "        return reduce_mean(reduce_mean(tmp, axis=-1),axis=1)\n",
        "    return custom_mae\n",
        "\n",
        "def make_custom_mse(batch_size:int, low_threshold:int=1_000_000_000_000, high_threshold:int=1_000_000_000_000):\n",
        "    def custom_mse(y_true, y_pred):\n",
        "        print(y_true.shape, type(y_true))\n",
        "        print(y_pred.shape, type(y_pred))\n",
        "        error = (y_true - y_pred).numpy()\n",
        "        print(error.shape, type(error))\n",
        "        np_error = np.zeros(shape=(batch_size,y_pred.shape[1],y_pred.shape[2]))\n",
        "        for i in range(np_error.shape[1]):\n",
        "            if i < low_threshold:\n",
        "                np_error[:,i,:] = error[:,i,:] ** 2\n",
        "            elif i < high_threshold :\n",
        "                np_error[:,i,:] = error[:,i,:] ** 2 * penalization\n",
        "            else :\n",
        "                pass # Keeps error to 0   \n",
        "        np_error=convert_to_tensor(error)\n",
        "        print(reduce_mean(reduce_mean(reduce_mean(np_error, axis=-1),axis=1),axis=0))    \n",
        "        return reduce_mean(reduce_mean(reduce_mean(np_error, axis=-1),axis=1),axis=0)\n",
        "    return custom_mse\n",
        "\n",
        "#    return backend.mean(tf.math.squared_difference(y_pred, y_true), axis=-1)"
      ]
    },
    {
      "cell_type": "code",
      "execution_count": 137,
      "id": "fda4bf2a",
      "metadata": {},
      "outputs": [
        {
          "name": "stdout",
          "output_type": "stream",
          "text": [
            "(32, 12, 430) (32, 12, 430)\n"
          ]
        }
      ],
      "source": [
        "y_cust_loss_test_a = y_test_bikes[:32,:,:]\n",
        "y_cust_loss_test_b = y_test_bikes[:32,:,:]\n",
        "\n",
        "print(y_cust_loss_test_a.shape, y_cust_loss_test_b.shape)"
      ]
    },
    {
      "cell_type": "code",
      "execution_count": 119,
      "id": "1fb281f1",
      "metadata": {},
      "outputs": [
        {
          "ename": "TypeError",
          "evalue": "make_custom_mse() missing 1 required positional argument: 'batch_size'",
          "output_type": "error",
          "traceback": [
            "\u001b[0;31m---------------------------------------------------------------------------\u001b[0m",
            "\u001b[0;31mTypeError\u001b[0m                                 Traceback (most recent call last)",
            "Cell \u001b[0;32mIn [119], line 10\u001b[0m\n\u001b[1;32m      8\u001b[0m mse_base \u001b[39m=\u001b[39m MeanSquaredError()\n\u001b[1;32m      9\u001b[0m mae_base \u001b[39m=\u001b[39m MeanAbsoluteError()\n\u001b[0;32m---> 10\u001b[0m custom_mse \u001b[39m=\u001b[39m make_custom_mse(low_threshold\u001b[39m=\u001b[39m\u001b[39m1\u001b[39m, high_threshold\u001b[39m=\u001b[39m\u001b[39m3\u001b[39m)\n\u001b[1;32m     11\u001b[0m custom_mae \u001b[39m=\u001b[39m make_custom_mae()\n\u001b[1;32m     13\u001b[0m \u001b[39mprint\u001b[39m(\u001b[39mf\u001b[39m\u001b[39m\"\u001b[39m\u001b[39mMSE Base: \u001b[39m\u001b[39m{\u001b[39;00mmse_base(y_cust_loss_test_a, y_cust_loss_test_b)\u001b[39m}\u001b[39;00m\u001b[39m vs MSE Custom: \u001b[39m\u001b[39m{\u001b[39;00mcustom_mse(y_cust_loss_test_a, y_cust_loss_test_b)\u001b[39m}\u001b[39;00m\u001b[39m / MAE Base: \u001b[39m\u001b[39m{\u001b[39;00mmae_base(y_cust_loss_test_a, y_cust_loss_test_b)\u001b[39m}\u001b[39;00m\u001b[39m vs MAE Custom: \u001b[39m\u001b[39m{\u001b[39;00mcustom_mae(y_cust_loss_test_a, y_cust_loss_test_b)\u001b[39m}\u001b[39;00m\u001b[39m\"\u001b[39m)\n",
            "\u001b[0;31mTypeError\u001b[0m: make_custom_mse() missing 1 required positional argument: 'batch_size'"
          ]
        }
      ],
      "source": [
        "# Cell to test the validity of the custom loss function (do not forget to adjust thresholds)\n",
        "\n",
        "from tensorflow.keras.metrics import MeanSquaredError, MeanAbsoluteError\n",
        "\n",
        "y_true = np.array([[12, 20, 29., 60.],[12, 20, 29., 60.]])\n",
        "y_pred = np.array([[14., 18., 27., 55.],[14., 18., 27., 55.]])\n",
        "\n",
        "mse_base = MeanSquaredError()\n",
        "mae_base = MeanAbsoluteError()\n",
        "custom_mse = make_custom_mse(low_threshold=1, high_threshold=3)\n",
        "custom_mae = make_custom_mae()\n",
        "\n",
        "print(f\"MSE Base: {mse_base(y_cust_loss_test_a, y_cust_loss_test_b)} vs MSE Custom: {custom_mse(y_cust_loss_test_a, y_cust_loss_test_b)} / MAE Base: {mae_base(y_cust_loss_test_a, y_cust_loss_test_b)} vs MAE Custom: {custom_mae(y_cust_loss_test_a, y_cust_loss_test_b)}\")\n"
      ]
    },
    {
      "cell_type": "markdown",
      "id": "Q316FJW405w8",
      "metadata": {
        "id": "Q316FJW405w8"
      },
      "source": [
        "# Modelling"
      ]
    },
    {
      "cell_type": "markdown",
      "id": "1b91e384",
      "metadata": {},
      "source": [
        "### Loss function parameters "
      ]
    },
    {
      "cell_type": "code",
      "execution_count": 120,
      "id": "cc1c5174",
      "metadata": {},
      "outputs": [],
      "source": [
        "low_t = 3\n",
        "high_t = 12\n",
        "batch_size= 32"
      ]
    },
    {
      "cell_type": "markdown",
      "id": "59d59fac",
      "metadata": {},
      "source": [
        "### Not Diff"
      ]
    },
    {
      "cell_type": "code",
      "execution_count": 182,
      "id": "f2a4d5ea",
      "metadata": {
        "id": "f2a4d5ea"
      },
      "outputs": [],
      "source": [
        "initial_learning_rate = 0.01\n",
        "decay_steps = 100\n",
        "decay_rate = 0.5\n",
        "lr_schedule = ExponentialDecay(initial_learning_rate, decay_steps = decay_steps, decay_rate = decay_rate,)\n",
        "\n",
        "def init_model(X_train, y_train):\n",
        "\n",
        "    model = Sequential([\n",
        "        layers.GRU(units=256, input_shape = (X_train.shape[1],X_train.shape[2]), activation='tanh', return_sequences=True),\n",
        "        #layers.Dropout(0.2),\n",
        "        #layers.GRU(units=256, activation='tanh', return_sequences=True),\n",
        "        #layers.Dropout(0.2),\n",
        "        #layers.Dense(256,activation = 'relu'),\n",
        "        #layers.Dropout(0.2),\n",
        "        layers.Dense(512,activation = 'relu'),\n",
        "        #layers.Dropout(0.2),\n",
        "        layers.Dense(64,activation = 'relu'),\n",
        "        layers.Dense(64,activation = 'relu'),\n",
        "        layers.Dense(y_train.shape[2], activation='linear')  \n",
        "    ])\n",
        "    \n",
        "    model.compile(optimizer=Adam(learning_rate=lr_schedule),\n",
        "                #loss = 'mse',\n",
        "                loss=make_custom_mse(batch_size,low_threshold=low_t, high_threshold=high_t),\n",
        "                run_eagerly=True,\n",
        "                metrics=['mae'])\n",
        "    return model"
      ]
    },
    {
      "cell_type": "markdown",
      "id": "8e86ba90",
      "metadata": {},
      "source": [
        "### Diff"
      ]
    },
    {
      "cell_type": "code",
      "execution_count": 123,
      "id": "84d1028c",
      "metadata": {},
      "outputs": [],
      "source": [
        "initial_learning_rate = 0.01\n",
        "decay_steps = 100\n",
        "decay_rate = 0.5\n",
        "lr_schedule = ExponentialDecay(initial_learning_rate, decay_steps = decay_steps, decay_rate = decay_rate,)\n",
        "\n",
        "def init_diff_model(X_train, y_train):\n",
        "    \n",
        "    normalizer = Normalization()\n",
        "    normalizer.adapt(X_train)\n",
        "\n",
        "    model = Sequential([\n",
        "        normalizer,\n",
        "        layers.GRU(units=64, activation='tanh', return_sequences=True),\n",
        "        #layers.Dropout(0.2),\n",
        "        layers.GRU(units=64, activation='tanh', return_sequences=True),\n",
        "        #layers.Dropout(0.2),\n",
        "        #layers.Dense(256,activation = 'relu'),\n",
        "        #layers.Dropout(0.2),\n",
        "        #layers.Dense(512,activation = 'relu'),\n",
        "        #layers.Dropout(0.2),\n",
        "        #layers.Dense(64,activation = 'relu'),\n",
        "        #layers.Dense(64,activation = 'relu'),\n",
        "        layers.Dense(y_train.shape[2], activation='linear')  \n",
        "    ])\n",
        "    \n",
        "    model.compile(optimizer=Adam(learning_rate=lr_schedule),\n",
        "                loss=make_custom_mse(batch_size, low_threshold=low_t, high_threshold=high_t),\n",
        "                metrics=['mae'])\n",
        "    return model"
      ]
    },
    {
      "cell_type": "markdown",
      "id": "c25d8680",
      "metadata": {},
      "source": [
        "### All"
      ]
    },
    {
      "cell_type": "code",
      "execution_count": 183,
      "id": "bef522dc",
      "metadata": {
        "id": "bef522dc"
      },
      "outputs": [
        {
          "name": "stdout",
          "output_type": "stream",
          "text": [
            "Model: \"sequential_43\"\n",
            "_________________________________________________________________\n",
            " Layer (type)                Output Shape              Param #   \n",
            "=================================================================\n",
            " gru_43 (GRU)                (None, 12, 256)           528384    \n",
            "                                                                 \n",
            " dense_172 (Dense)           (None, 12, 512)           131584    \n",
            "                                                                 \n",
            " dense_173 (Dense)           (None, 12, 64)            32832     \n",
            "                                                                 \n",
            " dense_174 (Dense)           (None, 12, 64)            4160      \n",
            "                                                                 \n",
            " dense_175 (Dense)           (None, 12, 430)           27950     \n",
            "                                                                 \n",
            "=================================================================\n",
            "Total params: 724,910\n",
            "Trainable params: 724,910\n",
            "Non-trainable params: 0\n",
            "_________________________________________________________________\n"
          ]
        }
      ],
      "source": [
        "if diff:\n",
        "    model = init_diff_model(X_train_bikes, y_train_bikes)\n",
        "else :\n",
        "    model = init_model(X_train_bikes, y_train_bikes)\n",
        "model.summary()"
      ]
    },
    {
      "cell_type": "code",
      "execution_count": 185,
      "id": "34bf954f",
      "metadata": {
        "id": "34bf954f"
      },
      "outputs": [],
      "source": [
        "from tensorflow.keras.callbacks import EarlyStopping\n",
        "\n",
        "def fit_model(model,X,y):\n",
        "    es = EarlyStopping(patience=6,restore_best_weights = True)\n",
        "    history = model.fit(X,y,epochs = 200,callbacks=es,batch_size=batch_size, validation_split=0.3)\n",
        "    return(model,history)"
      ]
    },
    {
      "cell_type": "code",
      "execution_count": 186,
      "id": "4ec09b0b",
      "metadata": {
        "id": "4ec09b0b"
      },
      "outputs": [
        {
          "name": "stdout",
          "output_type": "stream",
          "text": [
            "Epoch 1/200\n",
            "(32, 12, 430) <class 'tensorflow.python.framework.ops.EagerTensor'>\n",
            "(32, 12, 430) <class 'tensorflow.python.framework.ops.EagerTensor'>\n",
            "(32, 12, 430) <class 'numpy.ndarray'>\n",
            "tf.Tensor(0.4012741, shape=(), dtype=float32)\n"
          ]
        },
        {
          "ename": "ValueError",
          "evalue": "No gradients provided for any variable: (['gru_45/gru_cell_45/kernel:0', 'gru_45/gru_cell_45/recurrent_kernel:0', 'gru_45/gru_cell_45/bias:0', 'dense_180/kernel:0', 'dense_180/bias:0', 'dense_181/kernel:0', 'dense_181/bias:0', 'dense_182/kernel:0', 'dense_182/bias:0', 'dense_183/kernel:0', 'dense_183/bias:0'],). Provided `grads_and_vars` is ((None, <tf.Variable 'gru_45/gru_cell_45/kernel:0' shape=(430, 768) dtype=float32, numpy=\narray([[ 0.00261724, -0.02747981,  0.00650536, ...,  0.06335779,\n        -0.03935304,  0.02658617],\n       [ 0.02593227, -0.0509498 , -0.05407511, ...,  0.07074624,\n        -0.03573034,  0.03547294],\n       [-0.01528806, -0.0245623 ,  0.06541475, ..., -0.02388177,\n        -0.0460208 , -0.01119273],\n       ...,\n       [ 0.04930007,  0.05595543, -0.05841895, ...,  0.02455073,\n         0.01705773,  0.03337547],\n       [ 0.04170503,  0.00349875,  0.05533088, ...,  0.05258685,\n         0.03141776, -0.00563754],\n       [-0.06114922, -0.06346756, -0.05474058, ..., -0.02829905,\n        -0.00594915, -0.00978019]], dtype=float32)>), (None, <tf.Variable 'gru_45/gru_cell_45/recurrent_kernel:0' shape=(256, 768) dtype=float32, numpy=\narray([[-9.5530748e-03,  2.0085038e-03,  3.6874410e-02, ...,\n        -2.0631496e-02,  1.7518457e-02,  5.3946637e-02],\n       [-1.3014206e-03,  3.0933142e-02, -1.3982625e-02, ...,\n        -3.3476904e-02,  4.6972143e-03, -8.6119026e-02],\n       [-5.9797354e-03, -1.4129649e-02, -4.9018145e-02, ...,\n        -6.5195523e-02, -2.9041545e-02,  1.4294028e-02],\n       ...,\n       [-3.7590915e-05,  1.3077861e-02,  1.7473368e-02, ...,\n         1.8422889e-02, -8.6294688e-02, -1.3307929e-02],\n       [-5.6423888e-02,  2.5797067e-02,  1.0518984e-02, ...,\n        -7.8490831e-02, -1.1623461e-02,  3.5489321e-02],\n       [-3.6577199e-02,  3.4713581e-02,  3.9465889e-02, ...,\n        -1.5493205e-02, -2.6425640e-03,  2.3574289e-02]], dtype=float32)>), (None, <tf.Variable 'gru_45/gru_cell_45/bias:0' shape=(2, 768) dtype=float32, numpy=\narray([[0., 0., 0., ..., 0., 0., 0.],\n       [0., 0., 0., ..., 0., 0., 0.]], dtype=float32)>), (None, <tf.Variable 'dense_180/kernel:0' shape=(256, 512) dtype=float32, numpy=\narray([[ 0.07285654,  0.01310866,  0.06437811, ..., -0.05488316,\n        -0.07990922,  0.06402328],\n       [ 0.06889597, -0.01846188, -0.08003508, ..., -0.04897776,\n         0.05121104, -0.03113   ],\n       [ 0.04804618, -0.01546359, -0.07685486, ..., -0.07511792,\n         0.05393436, -0.07005257],\n       ...,\n       [-0.0173217 ,  0.04140488,  0.01641453, ...,  0.05353888,\n         0.02475733,  0.05389249],\n       [-0.00298653,  0.03283448, -0.04851201, ...,  0.0143159 ,\n        -0.0262703 ,  0.06969089],\n       [-0.04961483, -0.02319651, -0.06950489, ..., -0.02243093,\n         0.02993863,  0.07160144]], dtype=float32)>), (None, <tf.Variable 'dense_180/bias:0' shape=(512,) dtype=float32, numpy=\narray([0., 0., 0., 0., 0., 0., 0., 0., 0., 0., 0., 0., 0., 0., 0., 0., 0.,\n       0., 0., 0., 0., 0., 0., 0., 0., 0., 0., 0., 0., 0., 0., 0., 0., 0.,\n       0., 0., 0., 0., 0., 0., 0., 0., 0., 0., 0., 0., 0., 0., 0., 0., 0.,\n       0., 0., 0., 0., 0., 0., 0., 0., 0., 0., 0., 0., 0., 0., 0., 0., 0.,\n       0., 0., 0., 0., 0., 0., 0., 0., 0., 0., 0., 0., 0., 0., 0., 0., 0.,\n       0., 0., 0., 0., 0., 0., 0., 0., 0., 0., 0., 0., 0., 0., 0., 0., 0.,\n       0., 0., 0., 0., 0., 0., 0., 0., 0., 0., 0., 0., 0., 0., 0., 0., 0.,\n       0., 0., 0., 0., 0., 0., 0., 0., 0., 0., 0., 0., 0., 0., 0., 0., 0.,\n       0., 0., 0., 0., 0., 0., 0., 0., 0., 0., 0., 0., 0., 0., 0., 0., 0.,\n       0., 0., 0., 0., 0., 0., 0., 0., 0., 0., 0., 0., 0., 0., 0., 0., 0.,\n       0., 0., 0., 0., 0., 0., 0., 0., 0., 0., 0., 0., 0., 0., 0., 0., 0.,\n       0., 0., 0., 0., 0., 0., 0., 0., 0., 0., 0., 0., 0., 0., 0., 0., 0.,\n       0., 0., 0., 0., 0., 0., 0., 0., 0., 0., 0., 0., 0., 0., 0., 0., 0.,\n       0., 0., 0., 0., 0., 0., 0., 0., 0., 0., 0., 0., 0., 0., 0., 0., 0.,\n       0., 0., 0., 0., 0., 0., 0., 0., 0., 0., 0., 0., 0., 0., 0., 0., 0.,\n       0., 0., 0., 0., 0., 0., 0., 0., 0., 0., 0., 0., 0., 0., 0., 0., 0.,\n       0., 0., 0., 0., 0., 0., 0., 0., 0., 0., 0., 0., 0., 0., 0., 0., 0.,\n       0., 0., 0., 0., 0., 0., 0., 0., 0., 0., 0., 0., 0., 0., 0., 0., 0.,\n       0., 0., 0., 0., 0., 0., 0., 0., 0., 0., 0., 0., 0., 0., 0., 0., 0.,\n       0., 0., 0., 0., 0., 0., 0., 0., 0., 0., 0., 0., 0., 0., 0., 0., 0.,\n       0., 0., 0., 0., 0., 0., 0., 0., 0., 0., 0., 0., 0., 0., 0., 0., 0.,\n       0., 0., 0., 0., 0., 0., 0., 0., 0., 0., 0., 0., 0., 0., 0., 0., 0.,\n       0., 0., 0., 0., 0., 0., 0., 0., 0., 0., 0., 0., 0., 0., 0., 0., 0.,\n       0., 0., 0., 0., 0., 0., 0., 0., 0., 0., 0., 0., 0., 0., 0., 0., 0.,\n       0., 0., 0., 0., 0., 0., 0., 0., 0., 0., 0., 0., 0., 0., 0., 0., 0.,\n       0., 0., 0., 0., 0., 0., 0., 0., 0., 0., 0., 0., 0., 0., 0., 0., 0.,\n       0., 0., 0., 0., 0., 0., 0., 0., 0., 0., 0., 0., 0., 0., 0., 0., 0.,\n       0., 0., 0., 0., 0., 0., 0., 0., 0., 0., 0., 0., 0., 0., 0., 0., 0.,\n       0., 0., 0., 0., 0., 0., 0., 0., 0., 0., 0., 0., 0., 0., 0., 0., 0.,\n       0., 0., 0., 0., 0., 0., 0., 0., 0., 0., 0., 0., 0., 0., 0., 0., 0.,\n       0., 0.], dtype=float32)>), (None, <tf.Variable 'dense_181/kernel:0' shape=(512, 64) dtype=float32, numpy=\narray([[ 2.0784989e-02,  4.9239516e-02, -3.5120092e-02, ...,\n        -9.4491318e-03, -9.0962157e-02, -7.4164361e-02],\n       [ 4.9788982e-02, -9.6366361e-02, -7.7084325e-02, ...,\n        -5.9608072e-03,  1.2713544e-02, -5.2979641e-02],\n       [ 8.1188977e-04, -1.7426260e-02, -4.8947338e-02, ...,\n         8.9669049e-02,  7.0796341e-02,  6.0567677e-02],\n       ...,\n       [ 3.6943480e-02,  5.2131638e-02,  3.2181516e-03, ...,\n        -2.4394527e-02,  5.0554171e-02, -5.9642736e-02],\n       [-8.5342675e-02,  1.4994070e-03,  9.6730143e-02, ...,\n         2.4160072e-02,  7.9619393e-02, -8.5761473e-03],\n       [-3.5625175e-03,  4.6034113e-02, -9.6406288e-02, ...,\n        -7.9713978e-02, -8.5410811e-02,  1.1950731e-05]], dtype=float32)>), (None, <tf.Variable 'dense_181/bias:0' shape=(64,) dtype=float32, numpy=\narray([0., 0., 0., 0., 0., 0., 0., 0., 0., 0., 0., 0., 0., 0., 0., 0., 0.,\n       0., 0., 0., 0., 0., 0., 0., 0., 0., 0., 0., 0., 0., 0., 0., 0., 0.,\n       0., 0., 0., 0., 0., 0., 0., 0., 0., 0., 0., 0., 0., 0., 0., 0., 0.,\n       0., 0., 0., 0., 0., 0., 0., 0., 0., 0., 0., 0., 0.], dtype=float32)>), (None, <tf.Variable 'dense_182/kernel:0' shape=(64, 64) dtype=float32, numpy=\narray([[ 0.05684273,  0.08570118,  0.19853128, ..., -0.13319421,\n        -0.02423576, -0.11806334],\n       [ 0.13327385, -0.14492801,  0.11496092, ...,  0.08165888,\n        -0.2158413 , -0.04941195],\n       [-0.02982353, -0.14429504,  0.0445229 , ..., -0.16111587,\n        -0.05217078, -0.17786632],\n       ...,\n       [-0.07651205, -0.11152408,  0.21082784, ...,  0.00611129,\n        -0.00259583,  0.11515553],\n       [ 0.1067767 ,  0.00419292,  0.20297955, ..., -0.13651507,\n         0.09741296,  0.14007483],\n       [-0.04093681,  0.03073269,  0.03043748, ...,  0.11341603,\n        -0.00307149, -0.17145926]], dtype=float32)>), (None, <tf.Variable 'dense_182/bias:0' shape=(64,) dtype=float32, numpy=\narray([0., 0., 0., 0., 0., 0., 0., 0., 0., 0., 0., 0., 0., 0., 0., 0., 0.,\n       0., 0., 0., 0., 0., 0., 0., 0., 0., 0., 0., 0., 0., 0., 0., 0., 0.,\n       0., 0., 0., 0., 0., 0., 0., 0., 0., 0., 0., 0., 0., 0., 0., 0., 0.,\n       0., 0., 0., 0., 0., 0., 0., 0., 0., 0., 0., 0., 0.], dtype=float32)>), (None, <tf.Variable 'dense_183/kernel:0' shape=(64, 430) dtype=float32, numpy=\narray([[-0.09326148,  0.08179151, -0.06746656, ...,  0.08780003,\n        -0.06829497,  0.09372392],\n       [ 0.05713131,  0.03102407, -0.04168704, ..., -0.02316663,\n        -0.07861174, -0.06870443],\n       [ 0.05879843,  0.0438485 ,  0.00515653, ..., -0.02619023,\n        -0.02799694, -0.05387368],\n       ...,\n       [ 0.08808611,  0.05876917,  0.05183281, ...,  0.06966412,\n        -0.05677737,  0.03222799],\n       [ 0.10028265, -0.00299292, -0.02761458, ...,  0.04949374,\n        -0.0951772 , -0.07657833],\n       [-0.09412783,  0.08617151, -0.10963692, ..., -0.06677131,\n         0.00143212,  0.05818079]], dtype=float32)>), (None, <tf.Variable 'dense_183/bias:0' shape=(430,) dtype=float32, numpy=\narray([0., 0., 0., 0., 0., 0., 0., 0., 0., 0., 0., 0., 0., 0., 0., 0., 0.,\n       0., 0., 0., 0., 0., 0., 0., 0., 0., 0., 0., 0., 0., 0., 0., 0., 0.,\n       0., 0., 0., 0., 0., 0., 0., 0., 0., 0., 0., 0., 0., 0., 0., 0., 0.,\n       0., 0., 0., 0., 0., 0., 0., 0., 0., 0., 0., 0., 0., 0., 0., 0., 0.,\n       0., 0., 0., 0., 0., 0., 0., 0., 0., 0., 0., 0., 0., 0., 0., 0., 0.,\n       0., 0., 0., 0., 0., 0., 0., 0., 0., 0., 0., 0., 0., 0., 0., 0., 0.,\n       0., 0., 0., 0., 0., 0., 0., 0., 0., 0., 0., 0., 0., 0., 0., 0., 0.,\n       0., 0., 0., 0., 0., 0., 0., 0., 0., 0., 0., 0., 0., 0., 0., 0., 0.,\n       0., 0., 0., 0., 0., 0., 0., 0., 0., 0., 0., 0., 0., 0., 0., 0., 0.,\n       0., 0., 0., 0., 0., 0., 0., 0., 0., 0., 0., 0., 0., 0., 0., 0., 0.,\n       0., 0., 0., 0., 0., 0., 0., 0., 0., 0., 0., 0., 0., 0., 0., 0., 0.,\n       0., 0., 0., 0., 0., 0., 0., 0., 0., 0., 0., 0., 0., 0., 0., 0., 0.,\n       0., 0., 0., 0., 0., 0., 0., 0., 0., 0., 0., 0., 0., 0., 0., 0., 0.,\n       0., 0., 0., 0., 0., 0., 0., 0., 0., 0., 0., 0., 0., 0., 0., 0., 0.,\n       0., 0., 0., 0., 0., 0., 0., 0., 0., 0., 0., 0., 0., 0., 0., 0., 0.,\n       0., 0., 0., 0., 0., 0., 0., 0., 0., 0., 0., 0., 0., 0., 0., 0., 0.,\n       0., 0., 0., 0., 0., 0., 0., 0., 0., 0., 0., 0., 0., 0., 0., 0., 0.,\n       0., 0., 0., 0., 0., 0., 0., 0., 0., 0., 0., 0., 0., 0., 0., 0., 0.,\n       0., 0., 0., 0., 0., 0., 0., 0., 0., 0., 0., 0., 0., 0., 0., 0., 0.,\n       0., 0., 0., 0., 0., 0., 0., 0., 0., 0., 0., 0., 0., 0., 0., 0., 0.,\n       0., 0., 0., 0., 0., 0., 0., 0., 0., 0., 0., 0., 0., 0., 0., 0., 0.,\n       0., 0., 0., 0., 0., 0., 0., 0., 0., 0., 0., 0., 0., 0., 0., 0., 0.,\n       0., 0., 0., 0., 0., 0., 0., 0., 0., 0., 0., 0., 0., 0., 0., 0., 0.,\n       0., 0., 0., 0., 0., 0., 0., 0., 0., 0., 0., 0., 0., 0., 0., 0., 0.,\n       0., 0., 0., 0., 0., 0., 0., 0., 0., 0., 0., 0., 0., 0., 0., 0., 0.,\n       0., 0., 0., 0., 0.], dtype=float32)>)).",
          "output_type": "error",
          "traceback": [
            "\u001b[0;31m---------------------------------------------------------------------------\u001b[0m",
            "\u001b[0;31mValueError\u001b[0m                                Traceback (most recent call last)",
            "Cell \u001b[0;32mIn [186], line 2\u001b[0m\n\u001b[1;32m      1\u001b[0m model \u001b[39m=\u001b[39m init_model(X_train_bikes,y_train_bikes)\n\u001b[0;32m----> 2\u001b[0m model,history \u001b[39m=\u001b[39m fit_model(model,X_train_bikes,y_train_bikes)\n",
            "Cell \u001b[0;32mIn [185], line 5\u001b[0m, in \u001b[0;36mfit_model\u001b[0;34m(model, X, y)\u001b[0m\n\u001b[1;32m      3\u001b[0m \u001b[39mdef\u001b[39;00m \u001b[39mfit_model\u001b[39m(model,X,y):\n\u001b[1;32m      4\u001b[0m     es \u001b[39m=\u001b[39m EarlyStopping(patience\u001b[39m=\u001b[39m\u001b[39m6\u001b[39m,restore_best_weights \u001b[39m=\u001b[39m \u001b[39mTrue\u001b[39;00m)\n\u001b[0;32m----> 5\u001b[0m     history \u001b[39m=\u001b[39m model\u001b[39m.\u001b[39;49mfit(X,y,epochs \u001b[39m=\u001b[39;49m \u001b[39m200\u001b[39;49m,callbacks\u001b[39m=\u001b[39;49mes,batch_size\u001b[39m=\u001b[39;49mbatch_size, validation_split\u001b[39m=\u001b[39;49m\u001b[39m0.3\u001b[39;49m)\n\u001b[1;32m      6\u001b[0m     \u001b[39mreturn\u001b[39;00m(model,history)\n",
            "File \u001b[0;32m~/.pyenv/versions/lewagon/lib/python3.10/site-packages/keras/utils/traceback_utils.py:70\u001b[0m, in \u001b[0;36mfilter_traceback.<locals>.error_handler\u001b[0;34m(*args, **kwargs)\u001b[0m\n\u001b[1;32m     67\u001b[0m     filtered_tb \u001b[39m=\u001b[39m _process_traceback_frames(e\u001b[39m.\u001b[39m__traceback__)\n\u001b[1;32m     68\u001b[0m     \u001b[39m# To get the full stack trace, call:\u001b[39;00m\n\u001b[1;32m     69\u001b[0m     \u001b[39m# `tf.debugging.disable_traceback_filtering()`\u001b[39;00m\n\u001b[0;32m---> 70\u001b[0m     \u001b[39mraise\u001b[39;00m e\u001b[39m.\u001b[39mwith_traceback(filtered_tb) \u001b[39mfrom\u001b[39;00m \u001b[39mNone\u001b[39m\n\u001b[1;32m     71\u001b[0m \u001b[39mfinally\u001b[39;00m:\n\u001b[1;32m     72\u001b[0m     \u001b[39mdel\u001b[39;00m filtered_tb\n",
            "File \u001b[0;32m~/.pyenv/versions/lewagon/lib/python3.10/site-packages/keras/optimizers/optimizer_v2/utils.py:77\u001b[0m, in \u001b[0;36mfilter_empty_gradients\u001b[0;34m(grads_and_vars)\u001b[0m\n\u001b[1;32m     75\u001b[0m \u001b[39mif\u001b[39;00m \u001b[39mnot\u001b[39;00m filtered:\n\u001b[1;32m     76\u001b[0m     variable \u001b[39m=\u001b[39m ([v\u001b[39m.\u001b[39mname \u001b[39mfor\u001b[39;00m _, v \u001b[39min\u001b[39;00m grads_and_vars],)\n\u001b[0;32m---> 77\u001b[0m     \u001b[39mraise\u001b[39;00m \u001b[39mValueError\u001b[39;00m(\n\u001b[1;32m     78\u001b[0m         \u001b[39mf\u001b[39m\u001b[39m\"\u001b[39m\u001b[39mNo gradients provided for any variable: \u001b[39m\u001b[39m{\u001b[39;00mvariable\u001b[39m}\u001b[39;00m\u001b[39m. \u001b[39m\u001b[39m\"\u001b[39m\n\u001b[1;32m     79\u001b[0m         \u001b[39mf\u001b[39m\u001b[39m\"\u001b[39m\u001b[39mProvided `grads_and_vars` is \u001b[39m\u001b[39m{\u001b[39;00mgrads_and_vars\u001b[39m}\u001b[39;00m\u001b[39m.\u001b[39m\u001b[39m\"\u001b[39m\n\u001b[1;32m     80\u001b[0m     )\n\u001b[1;32m     81\u001b[0m \u001b[39mif\u001b[39;00m vars_with_empty_grads:\n\u001b[1;32m     82\u001b[0m     logging\u001b[39m.\u001b[39mwarning(\n\u001b[1;32m     83\u001b[0m         (\n\u001b[1;32m     84\u001b[0m             \u001b[39m\"\u001b[39m\u001b[39mGradients do not exist for variables \u001b[39m\u001b[39m%s\u001b[39;00m\u001b[39m when minimizing the \u001b[39m\u001b[39m\"\u001b[39m\n\u001b[0;32m   (...)\u001b[0m\n\u001b[1;32m     88\u001b[0m         ([v\u001b[39m.\u001b[39mname \u001b[39mfor\u001b[39;00m v \u001b[39min\u001b[39;00m vars_with_empty_grads]),\n\u001b[1;32m     89\u001b[0m     )\n",
            "\u001b[0;31mValueError\u001b[0m: No gradients provided for any variable: (['gru_45/gru_cell_45/kernel:0', 'gru_45/gru_cell_45/recurrent_kernel:0', 'gru_45/gru_cell_45/bias:0', 'dense_180/kernel:0', 'dense_180/bias:0', 'dense_181/kernel:0', 'dense_181/bias:0', 'dense_182/kernel:0', 'dense_182/bias:0', 'dense_183/kernel:0', 'dense_183/bias:0'],). Provided `grads_and_vars` is ((None, <tf.Variable 'gru_45/gru_cell_45/kernel:0' shape=(430, 768) dtype=float32, numpy=\narray([[ 0.00261724, -0.02747981,  0.00650536, ...,  0.06335779,\n        -0.03935304,  0.02658617],\n       [ 0.02593227, -0.0509498 , -0.05407511, ...,  0.07074624,\n        -0.03573034,  0.03547294],\n       [-0.01528806, -0.0245623 ,  0.06541475, ..., -0.02388177,\n        -0.0460208 , -0.01119273],\n       ...,\n       [ 0.04930007,  0.05595543, -0.05841895, ...,  0.02455073,\n         0.01705773,  0.03337547],\n       [ 0.04170503,  0.00349875,  0.05533088, ...,  0.05258685,\n         0.03141776, -0.00563754],\n       [-0.06114922, -0.06346756, -0.05474058, ..., -0.02829905,\n        -0.00594915, -0.00978019]], dtype=float32)>), (None, <tf.Variable 'gru_45/gru_cell_45/recurrent_kernel:0' shape=(256, 768) dtype=float32, numpy=\narray([[-9.5530748e-03,  2.0085038e-03,  3.6874410e-02, ...,\n        -2.0631496e-02,  1.7518457e-02,  5.3946637e-02],\n       [-1.3014206e-03,  3.0933142e-02, -1.3982625e-02, ...,\n        -3.3476904e-02,  4.6972143e-03, -8.6119026e-02],\n       [-5.9797354e-03, -1.4129649e-02, -4.9018145e-02, ...,\n        -6.5195523e-02, -2.9041545e-02,  1.4294028e-02],\n       ...,\n       [-3.7590915e-05,  1.3077861e-02,  1.7473368e-02, ...,\n         1.8422889e-02, -8.6294688e-02, -1.3307929e-02],\n       [-5.6423888e-02,  2.5797067e-02,  1.0518984e-02, ...,\n        -7.8490831e-02, -1.1623461e-02,  3.5489321e-02],\n       [-3.6577199e-02,  3.4713581e-02,  3.9465889e-02, ...,\n        -1.5493205e-02, -2.6425640e-03,  2.3574289e-02]], dtype=float32)>), (None, <tf.Variable 'gru_45/gru_cell_45/bias:0' shape=(2, 768) dtype=float32, numpy=\narray([[0., 0., 0., ..., 0., 0., 0.],\n       [0., 0., 0., ..., 0., 0., 0.]], dtype=float32)>), (None, <tf.Variable 'dense_180/kernel:0' shape=(256, 512) dtype=float32, numpy=\narray([[ 0.07285654,  0.01310866,  0.06437811, ..., -0.05488316,\n        -0.07990922,  0.06402328],\n       [ 0.06889597, -0.01846188, -0.08003508, ..., -0.04897776,\n         0.05121104, -0.03113   ],\n       [ 0.04804618, -0.01546359, -0.07685486, ..., -0.07511792,\n         0.05393436, -0.07005257],\n       ...,\n       [-0.0173217 ,  0.04140488,  0.01641453, ...,  0.05353888,\n         0.02475733,  0.05389249],\n       [-0.00298653,  0.03283448, -0.04851201, ...,  0.0143159 ,\n        -0.0262703 ,  0.06969089],\n       [-0.04961483, -0.02319651, -0.06950489, ..., -0.02243093,\n         0.02993863,  0.07160144]], dtype=float32)>), (None, <tf.Variable 'dense_180/bias:0' shape=(512,) dtype=float32, numpy=\narray([0., 0., 0., 0., 0., 0., 0., 0., 0., 0., 0., 0., 0., 0., 0., 0., 0.,\n       0., 0., 0., 0., 0., 0., 0., 0., 0., 0., 0., 0., 0., 0., 0., 0., 0.,\n       0., 0., 0., 0., 0., 0., 0., 0., 0., 0., 0., 0., 0., 0., 0., 0., 0.,\n       0., 0., 0., 0., 0., 0., 0., 0., 0., 0., 0., 0., 0., 0., 0., 0., 0.,\n       0., 0., 0., 0., 0., 0., 0., 0., 0., 0., 0., 0., 0., 0., 0., 0., 0.,\n       0., 0., 0., 0., 0., 0., 0., 0., 0., 0., 0., 0., 0., 0., 0., 0., 0.,\n       0., 0., 0., 0., 0., 0., 0., 0., 0., 0., 0., 0., 0., 0., 0., 0., 0.,\n       0., 0., 0., 0., 0., 0., 0., 0., 0., 0., 0., 0., 0., 0., 0., 0., 0.,\n       0., 0., 0., 0., 0., 0., 0., 0., 0., 0., 0., 0., 0., 0., 0., 0., 0.,\n       0., 0., 0., 0., 0., 0., 0., 0., 0., 0., 0., 0., 0., 0., 0., 0., 0.,\n       0., 0., 0., 0., 0., 0., 0., 0., 0., 0., 0., 0., 0., 0., 0., 0., 0.,\n       0., 0., 0., 0., 0., 0., 0., 0., 0., 0., 0., 0., 0., 0., 0., 0., 0.,\n       0., 0., 0., 0., 0., 0., 0., 0., 0., 0., 0., 0., 0., 0., 0., 0., 0.,\n       0., 0., 0., 0., 0., 0., 0., 0., 0., 0., 0., 0., 0., 0., 0., 0., 0.,\n       0., 0., 0., 0., 0., 0., 0., 0., 0., 0., 0., 0., 0., 0., 0., 0., 0.,\n       0., 0., 0., 0., 0., 0., 0., 0., 0., 0., 0., 0., 0., 0., 0., 0., 0.,\n       0., 0., 0., 0., 0., 0., 0., 0., 0., 0., 0., 0., 0., 0., 0., 0., 0.,\n       0., 0., 0., 0., 0., 0., 0., 0., 0., 0., 0., 0., 0., 0., 0., 0., 0.,\n       0., 0., 0., 0., 0., 0., 0., 0., 0., 0., 0., 0., 0., 0., 0., 0., 0.,\n       0., 0., 0., 0., 0., 0., 0., 0., 0., 0., 0., 0., 0., 0., 0., 0., 0.,\n       0., 0., 0., 0., 0., 0., 0., 0., 0., 0., 0., 0., 0., 0., 0., 0., 0.,\n       0., 0., 0., 0., 0., 0., 0., 0., 0., 0., 0., 0., 0., 0., 0., 0., 0.,\n       0., 0., 0., 0., 0., 0., 0., 0., 0., 0., 0., 0., 0., 0., 0., 0., 0.,\n       0., 0., 0., 0., 0., 0., 0., 0., 0., 0., 0., 0., 0., 0., 0., 0., 0.,\n       0., 0., 0., 0., 0., 0., 0., 0., 0., 0., 0., 0., 0., 0., 0., 0., 0.,\n       0., 0., 0., 0., 0., 0., 0., 0., 0., 0., 0., 0., 0., 0., 0., 0., 0.,\n       0., 0., 0., 0., 0., 0., 0., 0., 0., 0., 0., 0., 0., 0., 0., 0., 0.,\n       0., 0., 0., 0., 0., 0., 0., 0., 0., 0., 0., 0., 0., 0., 0., 0., 0.,\n       0., 0., 0., 0., 0., 0., 0., 0., 0., 0., 0., 0., 0., 0., 0., 0., 0.,\n       0., 0., 0., 0., 0., 0., 0., 0., 0., 0., 0., 0., 0., 0., 0., 0., 0.,\n       0., 0.], dtype=float32)>), (None, <tf.Variable 'dense_181/kernel:0' shape=(512, 64) dtype=float32, numpy=\narray([[ 2.0784989e-02,  4.9239516e-02, -3.5120092e-02, ...,\n        -9.4491318e-03, -9.0962157e-02, -7.4164361e-02],\n       [ 4.9788982e-02, -9.6366361e-02, -7.7084325e-02, ...,\n        -5.9608072e-03,  1.2713544e-02, -5.2979641e-02],\n       [ 8.1188977e-04, -1.7426260e-02, -4.8947338e-02, ...,\n         8.9669049e-02,  7.0796341e-02,  6.0567677e-02],\n       ...,\n       [ 3.6943480e-02,  5.2131638e-02,  3.2181516e-03, ...,\n        -2.4394527e-02,  5.0554171e-02, -5.9642736e-02],\n       [-8.5342675e-02,  1.4994070e-03,  9.6730143e-02, ...,\n         2.4160072e-02,  7.9619393e-02, -8.5761473e-03],\n       [-3.5625175e-03,  4.6034113e-02, -9.6406288e-02, ...,\n        -7.9713978e-02, -8.5410811e-02,  1.1950731e-05]], dtype=float32)>), (None, <tf.Variable 'dense_181/bias:0' shape=(64,) dtype=float32, numpy=\narray([0., 0., 0., 0., 0., 0., 0., 0., 0., 0., 0., 0., 0., 0., 0., 0., 0.,\n       0., 0., 0., 0., 0., 0., 0., 0., 0., 0., 0., 0., 0., 0., 0., 0., 0.,\n       0., 0., 0., 0., 0., 0., 0., 0., 0., 0., 0., 0., 0., 0., 0., 0., 0.,\n       0., 0., 0., 0., 0., 0., 0., 0., 0., 0., 0., 0., 0.], dtype=float32)>), (None, <tf.Variable 'dense_182/kernel:0' shape=(64, 64) dtype=float32, numpy=\narray([[ 0.05684273,  0.08570118,  0.19853128, ..., -0.13319421,\n        -0.02423576, -0.11806334],\n       [ 0.13327385, -0.14492801,  0.11496092, ...,  0.08165888,\n        -0.2158413 , -0.04941195],\n       [-0.02982353, -0.14429504,  0.0445229 , ..., -0.16111587,\n        -0.05217078, -0.17786632],\n       ...,\n       [-0.07651205, -0.11152408,  0.21082784, ...,  0.00611129,\n        -0.00259583,  0.11515553],\n       [ 0.1067767 ,  0.00419292,  0.20297955, ..., -0.13651507,\n         0.09741296,  0.14007483],\n       [-0.04093681,  0.03073269,  0.03043748, ...,  0.11341603,\n        -0.00307149, -0.17145926]], dtype=float32)>), (None, <tf.Variable 'dense_182/bias:0' shape=(64,) dtype=float32, numpy=\narray([0., 0., 0., 0., 0., 0., 0., 0., 0., 0., 0., 0., 0., 0., 0., 0., 0.,\n       0., 0., 0., 0., 0., 0., 0., 0., 0., 0., 0., 0., 0., 0., 0., 0., 0.,\n       0., 0., 0., 0., 0., 0., 0., 0., 0., 0., 0., 0., 0., 0., 0., 0., 0.,\n       0., 0., 0., 0., 0., 0., 0., 0., 0., 0., 0., 0., 0.], dtype=float32)>), (None, <tf.Variable 'dense_183/kernel:0' shape=(64, 430) dtype=float32, numpy=\narray([[-0.09326148,  0.08179151, -0.06746656, ...,  0.08780003,\n        -0.06829497,  0.09372392],\n       [ 0.05713131,  0.03102407, -0.04168704, ..., -0.02316663,\n        -0.07861174, -0.06870443],\n       [ 0.05879843,  0.0438485 ,  0.00515653, ..., -0.02619023,\n        -0.02799694, -0.05387368],\n       ...,\n       [ 0.08808611,  0.05876917,  0.05183281, ...,  0.06966412,\n        -0.05677737,  0.03222799],\n       [ 0.10028265, -0.00299292, -0.02761458, ...,  0.04949374,\n        -0.0951772 , -0.07657833],\n       [-0.09412783,  0.08617151, -0.10963692, ..., -0.06677131,\n         0.00143212,  0.05818079]], dtype=float32)>), (None, <tf.Variable 'dense_183/bias:0' shape=(430,) dtype=float32, numpy=\narray([0., 0., 0., 0., 0., 0., 0., 0., 0., 0., 0., 0., 0., 0., 0., 0., 0.,\n       0., 0., 0., 0., 0., 0., 0., 0., 0., 0., 0., 0., 0., 0., 0., 0., 0.,\n       0., 0., 0., 0., 0., 0., 0., 0., 0., 0., 0., 0., 0., 0., 0., 0., 0.,\n       0., 0., 0., 0., 0., 0., 0., 0., 0., 0., 0., 0., 0., 0., 0., 0., 0.,\n       0., 0., 0., 0., 0., 0., 0., 0., 0., 0., 0., 0., 0., 0., 0., 0., 0.,\n       0., 0., 0., 0., 0., 0., 0., 0., 0., 0., 0., 0., 0., 0., 0., 0., 0.,\n       0., 0., 0., 0., 0., 0., 0., 0., 0., 0., 0., 0., 0., 0., 0., 0., 0.,\n       0., 0., 0., 0., 0., 0., 0., 0., 0., 0., 0., 0., 0., 0., 0., 0., 0.,\n       0., 0., 0., 0., 0., 0., 0., 0., 0., 0., 0., 0., 0., 0., 0., 0., 0.,\n       0., 0., 0., 0., 0., 0., 0., 0., 0., 0., 0., 0., 0., 0., 0., 0., 0.,\n       0., 0., 0., 0., 0., 0., 0., 0., 0., 0., 0., 0., 0., 0., 0., 0., 0.,\n       0., 0., 0., 0., 0., 0., 0., 0., 0., 0., 0., 0., 0., 0., 0., 0., 0.,\n       0., 0., 0., 0., 0., 0., 0., 0., 0., 0., 0., 0., 0., 0., 0., 0., 0.,\n       0., 0., 0., 0., 0., 0., 0., 0., 0., 0., 0., 0., 0., 0., 0., 0., 0.,\n       0., 0., 0., 0., 0., 0., 0., 0., 0., 0., 0., 0., 0., 0., 0., 0., 0.,\n       0., 0., 0., 0., 0., 0., 0., 0., 0., 0., 0., 0., 0., 0., 0., 0., 0.,\n       0., 0., 0., 0., 0., 0., 0., 0., 0., 0., 0., 0., 0., 0., 0., 0., 0.,\n       0., 0., 0., 0., 0., 0., 0., 0., 0., 0., 0., 0., 0., 0., 0., 0., 0.,\n       0., 0., 0., 0., 0., 0., 0., 0., 0., 0., 0., 0., 0., 0., 0., 0., 0.,\n       0., 0., 0., 0., 0., 0., 0., 0., 0., 0., 0., 0., 0., 0., 0., 0., 0.,\n       0., 0., 0., 0., 0., 0., 0., 0., 0., 0., 0., 0., 0., 0., 0., 0., 0.,\n       0., 0., 0., 0., 0., 0., 0., 0., 0., 0., 0., 0., 0., 0., 0., 0., 0.,\n       0., 0., 0., 0., 0., 0., 0., 0., 0., 0., 0., 0., 0., 0., 0., 0., 0.,\n       0., 0., 0., 0., 0., 0., 0., 0., 0., 0., 0., 0., 0., 0., 0., 0., 0.,\n       0., 0., 0., 0., 0., 0., 0., 0., 0., 0., 0., 0., 0., 0., 0., 0., 0.,\n       0., 0., 0., 0., 0.], dtype=float32)>))."
          ]
        }
      ],
      "source": [
        "model = init_model(X_train_bikes,y_train_bikes)\n",
        "model,history = fit_model(model,X_train_bikes,y_train_bikes)"
      ]
    },
    {
      "cell_type": "code",
      "execution_count": null,
      "id": "b0ddded4",
      "metadata": {
        "id": "b0ddded4"
      },
      "outputs": [
        {
          "name": "stdout",
          "output_type": "stream",
          "text": [
            "157/157 [==============================] - 3s 20ms/step - loss: 0.4052 - mae: 0.2811\n"
          ]
        }
      ],
      "source": [
        "res =model.evaluate(X_test_bikes,y_test_bikes)"
      ]
    },
    {
      "cell_type": "code",
      "execution_count": null,
      "id": "669c4056",
      "metadata": {
        "id": "669c4056"
      },
      "outputs": [
        {
          "name": "stdout",
          "output_type": "stream",
          "text": [
            "157/157 [==============================] - 3s 19ms/step\n"
          ]
        }
      ],
      "source": [
        "y_pred = model.predict(X_test_bikes)"
      ]
    },
    {
      "cell_type": "code",
      "execution_count": null,
      "id": "G3QYE6M-Uy6I",
      "metadata": {
        "id": "G3QYE6M-Uy6I"
      },
      "outputs": [
        {
          "name": "stdout",
          "output_type": "stream",
          "text": [
            "0.2811\n",
            "[0.28, 0.28, 0.28, 0.28, 0.28, 0.28, 0.28, 0.28, 0.28, 0.28, 0.28, 0.28]\n"
          ]
        },
        {
          "data": {
            "image/png": "[encoded data removed]",
            "text/plain": [
              "<Figure size 640x480 with 1 Axes>"
            ]
          },
          "metadata": {},
          "output_type": "display_data"
        }
      ],
      "source": [
        "\n",
        "if not diff :\n",
        "    scaler.inverse_transform(y_test_bikes)\n",
        "    scaler.inverse_transform(y_pred)        \n",
        "\n",
        "model_mae = round(np.abs(y_test_bikes-y_pred).mean(),4)\n",
        "\n",
        "model_maes = []\n",
        "for i in range(y_pred.shape[1]):\n",
        "    model_maes.append(np.abs(y_test_bikes[:,i,:]-y_pred[:,i,:]).mean())\n",
        "\n",
        "print(model_mae)\n",
        "print(model_maes)\n",
        "plt.plot(model_maes, color='orange');\n",
        "plt.plot(maes);"
      ]
    },
    {
      "cell_type": "code",
      "execution_count": null,
      "id": "682a49a7",
      "metadata": {
        "id": "682a49a7"
      },
      "outputs": [
        {
          "data": {
            "text/plain": [
              "(5000, 12, 430)"
            ]
          },
          "execution_count": 36,
          "metadata": {},
          "output_type": "execute_result"
        }
      ],
      "source": [
        "y_pred.shape"
      ]
    },
    {
      "cell_type": "code",
      "execution_count": null,
      "id": "14c961c0",
      "metadata": {
        "id": "14c961c0"
      },
      "outputs": [
        {
          "data": {
            "text/plain": [
              "array([<AxesSubplot:title={'center':'MSE'}, xlabel='Epoch', ylabel='Loss'>,\n",
              "       <AxesSubplot:title={'center':'MAE'}, xlabel='Epoch', ylabel='MAE'>],\n",
              "      dtype=object)"
            ]
          },
          "execution_count": 37,
          "metadata": {},
          "output_type": "execute_result"
        },
        {
          "data": {
            "image/png": "[encoded data removed]",
            "text/plain": [
              "<Figure size 2000x700 with 2 Axes>"
            ]
          },
          "metadata": {},
          "output_type": "display_data"
        }
      ],
      "source": [
        "plot_history(history)"
      ]
    }
  ],
  "metadata": {
    "accelerator": "GPU",
    "colab": {
      "collapsed_sections": [
        "vSS5ikJv0lfk",
        "GS8-3PRJ0Cls",
        "dde48d5d"
      ],
      "provenance": []
    },
    "gpuClass": "standard",
    "kernelspec": {
      "display_name": "Python 3.10.6 64-bit ('shims')",
      "language": "python",
      "name": "python3"
    },
    "language_info": {
      "codemirror_mode": {
        "name": "ipython",
        "version": 3
      },
      "file_extension": ".py",
      "mimetype": "text/x-python",
      "name": "python",
      "nbconvert_exporter": "python",
      "pygments_lexer": "ipython3",
      "version": "3.10.6"
    },
    "toc": {
      "base_numbering": 1,
      "nav_menu": {},
      "number_sections": true,
      "sideBar": true,
      "skip_h1_title": false,
      "title_cell": "Table of Contents",
      "title_sidebar": "Contents",
      "toc_cell": false,
      "toc_position": {},
      "toc_section_display": true,
      "toc_window_display": false
    },
    "vscode": {
      "interpreter": {
        "hash": "79956488f5b85b3e124e2e76162f2dd546af42843d9be7c199947b0ae48c2851"
      }
    }
  },
  "nbformat": 4,
  "nbformat_minor": 5
}

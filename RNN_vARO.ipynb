{
  "cells": [
    {
      "cell_type": "markdown",
      "id": "fd6c6d11",
      "metadata": {},
      "source": [
        "# Imports"
      ]
    },
    {
      "cell_type": "code",
      "execution_count": 1,
      "id": "c3acd370",
      "metadata": {
        "colab": {
          "base_uri": "https://localhost:8080/"
        },
        "id": "c3acd370",
        "outputId": "17425e97-1766-41e8-e392-84beb38a0972"
      },
      "outputs": [
        {
          "name": "stderr",
          "output_type": "stream",
          "text": [
            "2022-12-06 16:05:24.101324: I tensorflow/core/platform/cpu_feature_guard.cc:193] This TensorFlow binary is optimized with oneAPI Deep Neural Network Library (oneDNN) to use the following CPU instructions in performance-critical operations:  AVX2 AVX_VNNI FMA\n",
            "To enable them in other operations, rebuild TensorFlow with the appropriate compiler flags.\n",
            "2022-12-06 16:05:24.435754: I tensorflow/core/util/util.cc:169] oneDNN custom operations are on. You may see slightly different numerical results due to floating-point round-off errors from different computation orders. To turn them off, set the environment variable `TF_ENABLE_ONEDNN_OPTS=0`.\n",
            "2022-12-06 16:05:24.454484: W tensorflow/stream_executor/platform/default/dso_loader.cc:64] Could not load dynamic library 'libcudart.so.11.0'; dlerror: libcudart.so.11.0: cannot open shared object file: No such file or directory\n",
            "2022-12-06 16:05:24.454513: I tensorflow/stream_executor/cuda/cudart_stub.cc:29] Ignore above cudart dlerror if you do not have a GPU set up on your machine.\n",
            "2022-12-06 16:05:24.499263: E tensorflow/stream_executor/cuda/cuda_blas.cc:2981] Unable to register cuBLAS factory: Attempting to register factory for plugin cuBLAS when one has already been registered\n",
            "2022-12-06 16:05:25.200999: W tensorflow/stream_executor/platform/default/dso_loader.cc:64] Could not load dynamic library 'libnvinfer.so.7'; dlerror: libnvinfer.so.7: cannot open shared object file: No such file or directory\n",
            "2022-12-06 16:05:25.201162: W tensorflow/stream_executor/platform/default/dso_loader.cc:64] Could not load dynamic library 'libnvinfer_plugin.so.7'; dlerror: libnvinfer_plugin.so.7: cannot open shared object file: No such file or directory\n",
            "2022-12-06 16:05:25.201170: W tensorflow/compiler/tf2tensorrt/utils/py_utils.cc:38] TF-TRT Warning: Cannot dlopen some TensorRT libraries. If you would like to use Nvidia GPU with TensorRT, please make sure the missing libraries mentioned above are installed properly.\n"
          ]
        }
      ],
      "source": [
        "%load_ext autoreload\n",
        "%autoreload 2\n",
        "\n",
        "import numpy as np\n",
        "import pandas as pd\n",
        "import seaborn as sns\n",
        "import matplotlib.pyplot as plt\n",
        "\n",
        "from tensorflow.keras import layers\n",
        "from tensorflow.keras.models import Sequential\n",
        "from tensorflow.keras.optimizers.schedules import ExponentialDecay\n",
        "from tensorflow.keras.optimizers import Adam\n",
        "from tensorflow.keras.layers.experimental.preprocessing import Normalization\n",
        "from tensorflow.math import reduce_mean\n",
        "from tensorflow import convert_to_tensor\n",
        "\n",
        "from model import plot_history, get_Xi_yi, get_X_y, get_folds, train_test_split_fold, MinMaxNormalization\n",
        "from cleaning import get_clean_bikes_dataframe\n"
      ]
    },
    {
      "cell_type": "markdown",
      "id": "690f8305",
      "metadata": {},
      "source": [
        "# Key cells"
      ]
    },
    {
      "cell_type": "code",
      "execution_count": 2,
      "id": "c1059b8c",
      "metadata": {},
      "outputs": [],
      "source": [
        "colab = False\n",
        "station_sequence = False\n",
        "diff = False"
      ]
    },
    {
      "cell_type": "code",
      "execution_count": 3,
      "id": "cacf6cc8",
      "metadata": {
        "id": "cacf6cc8"
      },
      "outputs": [],
      "source": [
        "INPUT_LENGTH = int(1*12) # 1 hours * 12 stamps per hour"
      ]
    },
    {
      "cell_type": "code",
      "execution_count": 4,
      "id": "61507021",
      "metadata": {
        "id": "61507021"
      },
      "outputs": [],
      "source": [
        "N_TRAIN = 10000 # number_of_sequences_train\n",
        "N_TEST =  5000 # number_of_sequences_test"
      ]
    },
    {
      "cell_type": "code",
      "execution_count": 5,
      "id": "VpxbxCxVXTRU",
      "metadata": {
        "colab": {
          "base_uri": "https://localhost:8080/"
        },
        "id": "VpxbxCxVXTRU",
        "outputId": "199848f4-ff27-494d-d8da-aafd4b6321e0"
      },
      "outputs": [],
      "source": [
        "if colab :\n",
        "    from google.colab import drive\n",
        "    drive.mount('/content/drive')"
      ]
    },
    {
      "cell_type": "markdown",
      "id": "GS8-3PRJ0Cls",
      "metadata": {
        "id": "GS8-3PRJ0Cls"
      },
      "source": [
        "# Data Loading"
      ]
    },
    {
      "cell_type": "code",
      "execution_count": 6,
      "id": "3ed85b43",
      "metadata": {
        "id": "3ed85b43"
      },
      "outputs": [
        {
          "name": "stdout",
          "output_type": "stream",
          "text": [
            "DataFrame successfully loaded from ~/.velov/data/cleaned/all_stations_hist.csv.\n"
          ]
        }
      ],
      "source": [
        "if colab :\n",
        "    bikes_df = pd.read_csv('bikes_df.csv').drop(columns='Unnamed: 0')\n",
        "else :\n",
        "    bikes_df = get_clean_bikes_dataframe()"
      ]
    },
    {
      "cell_type": "code",
      "execution_count": 7,
      "id": "da78bada",
      "metadata": {
        "id": "da78bada"
      },
      "outputs": [],
      "source": [
        "step = 5\n",
        "step_str = f'{step}min'\n",
        "\n",
        "bikes_df=bikes_df.sort_values(by=\"time\")\n",
        "bikes_df['time']=pd.to_datetime(bikes_df['time'])\n",
        "bikes_df = bikes_df.resample(step_str, on='time').mean()\n",
        "\n",
        "if diff:\n",
        "    for col in bikes_df.columns:\n",
        "        bikes_df[col] = bikes_df[col].diff()\n",
        "    bikes_df.dropna(inplace=True)"
      ]
    },
    {
      "cell_type": "code",
      "execution_count": 8,
      "id": "1bdfdafd",
      "metadata": {},
      "outputs": [],
      "source": [
        "# To verify normal distribution of diffs\n",
        "\n",
        "#if diff:\n",
        "#    bins = np.linspace(-39.75,39.75,num=80)\n",
        "#    diffs = np.array(bikes_df).reshape(bikes_df.shape[0]*bikes_df.shape[1])\n",
        "#    sns.histplot(diffs, bins=bins);"
      ]
    },
    {
      "cell_type": "markdown",
      "id": "dde48d5d",
      "metadata": {
        "id": "dde48d5d"
      },
      "source": [
        "# Folding"
      ]
    },
    {
      "cell_type": "code",
      "execution_count": 9,
      "id": "c75b4d57",
      "metadata": {
        "id": "c75b4d57"
      },
      "outputs": [
        {
          "name": "stdout",
          "output_type": "stream",
          "text": [
            "43718 1 12\n"
          ]
        }
      ],
      "source": [
        "FOLD_LENGTH = bikes_df.shape[0] # int(24 * 12 * 61) # 24 hours per day, 12 stamps per hour, 61 days\n",
        "    \n",
        "FOLD_STRIDE = 1 #int(24 * 12 * 7) # 1 week\n",
        "\n",
        "TRAIN_TEST_RATIO = 0.7\n",
        "\n",
        "print(FOLD_LENGTH, FOLD_STRIDE, INPUT_LENGTH)"
      ]
    },
    {
      "cell_type": "code",
      "execution_count": 10,
      "id": "24be5a13",
      "metadata": {
        "colab": {
          "base_uri": "https://localhost:8080/"
        },
        "id": "24be5a13",
        "outputId": "b788f8a5-7d31-4d47-b726-5a90ea9d644c"
      },
      "outputs": [
        {
          "name": "stdout",
          "output_type": "stream",
          "text": [
            "There are 1 folds.\n"
          ]
        }
      ],
      "source": [
        "bikes_folds = get_folds(bikes_df, FOLD_LENGTH, FOLD_STRIDE)\n",
        "bikes_fold = bikes_folds[0]"
      ]
    },
    {
      "cell_type": "code",
      "execution_count": 11,
      "id": "992927ec",
      "metadata": {
        "colab": {
          "base_uri": "https://localhost:8080/"
        },
        "id": "992927ec",
        "outputId": "19eb05f1-6d35-4654-8e74-ffac905b37b7",
        "scrolled": true
      },
      "outputs": [
        {
          "name": "stdout",
          "output_type": "stream",
          "text": [
            "The train split contains 30603 observations and the test split 13115 observations.\n"
          ]
        }
      ],
      "source": [
        "(bikes_fold_train, bikes_fold_test) = train_test_split_fold(bikes_fold, TRAIN_TEST_RATIO, INPUT_LENGTH)"
      ]
    },
    {
      "cell_type": "code",
      "execution_count": 12,
      "id": "975942f6",
      "metadata": {
        "id": "975942f6"
      },
      "outputs": [],
      "source": [
        "OUTPUT_LENGTH = INPUT_LENGTH\n",
        "SEQUENCE_STRIDE = 1"
      ]
    },
    {
      "cell_type": "markdown",
      "id": "fOzd784zWGyX",
      "metadata": {
        "id": "fOzd784zWGyX"
      },
      "source": [
        "# Train/Test split\n"
      ]
    },
    {
      "cell_type": "code",
      "execution_count": 13,
      "id": "16105cc0",
      "metadata": {
        "colab": {
          "base_uri": "https://localhost:8080/"
        },
        "id": "16105cc0",
        "outputId": "d9a05221-0be4-41c3-cf5e-851307628d9d"
      },
      "outputs": [
        {
          "data": {
            "text/plain": [
              "((10000, 12, 430), (10000, 12, 430), (5000, 12, 430), (5000, 12, 430))"
            ]
          },
          "execution_count": 13,
          "metadata": {},
          "output_type": "execute_result"
        }
      ],
      "source": [
        "X_train_bikes, y_train_bikes = get_X_y(bikes_fold_train, N_TRAIN, INPUT_LENGTH, OUTPUT_LENGTH)\n",
        "X_test_bikes, y_test_bikes = get_X_y(bikes_fold_test, N_TEST, INPUT_LENGTH, OUTPUT_LENGTH)\n",
        "\n",
        "X_train_bikes.shape, y_train_bikes.shape, X_test_bikes.shape, y_test_bikes.shape"
      ]
    },
    {
      "cell_type": "code",
      "execution_count": 14,
      "id": "5b23d510",
      "metadata": {
        "colab": {
          "base_uri": "https://localhost:8080/",
          "height": 0
        },
        "id": "5b23d510",
        "outputId": "f4bd0179-d380-4613-d739-496ea965e00d"
      },
      "outputs": [],
      "source": [
        "if station_sequence == True :\n",
        "    # Pour passer en v Station = Sequence\n",
        "    X_train_bikes = np.array(pd.DataFrame(X_train_bikes[0]).transpose())\n",
        "    X_test_bikes = np.array(pd.DataFrame(X_test_bikes[0]).transpose())\n",
        "    y_train_bikes = np.array(pd.DataFrame(y_train_bikes[0]).transpose())\n",
        "    y_test_bikes = np.array(pd.DataFrame(y_test_bikes[0]).transpose())\n",
        "\n",
        "    X_train_bikes = X_train_bikes.reshape((430,INPUT_LENGTH,1))\n",
        "    X_test_bikes = X_test_bikes.reshape((430,INPUT_LENGTH,1))\n",
        "    y_train_bikes = y_train_bikes.reshape((430,OUTPUT_LENGTH))\n",
        "    y_test_bikes = y_test_bikes.reshape((430,OUTPUT_LENGTH))\n",
        "\n",
        "    print(X_train_bikes.shape, y_train_bikes.shape, X_test_bikes.shape, y_test_bikes.shape) \n"
      ]
    },
    {
      "cell_type": "markdown",
      "id": "v6FAGMmm0-Vb",
      "metadata": {
        "id": "v6FAGMmm0-Vb"
      },
      "source": [
        "# Baseline Model "
      ]
    },
    {
      "cell_type": "code",
      "execution_count": 15,
      "id": "BLmB3Cfn1CN9",
      "metadata": {
        "colab": {
          "base_uri": "https://localhost:8080/"
        },
        "id": "BLmB3Cfn1CN9",
        "outputId": "27e18d4b-aab0-4cf4-ad1c-49471e90a621"
      },
      "outputs": [],
      "source": [
        "if not diff:\n",
        "    y_base_bikes = []\n",
        "    for i in range(y_test_bikes.shape[0]):\n",
        "        y_base_bikes.append([X_test_bikes[i,-1:,:]]*y_test_bikes.shape[1])\n",
        "\n",
        "    y_base_bikes = np.array(y_base_bikes).reshape((y_test_bikes.shape[0],y_test_bikes.shape[1],y_test_bikes.shape[2]))\n",
        "    y_base_bikes.shape"
      ]
    },
    {
      "cell_type": "code",
      "execution_count": 16,
      "id": "-31qhGev1PzM",
      "metadata": {
        "colab": {
          "base_uri": "https://localhost:8080/"
        },
        "id": "-31qhGev1PzM",
        "outputId": "a4794a15-ab7a-4409-b86e-dc7aecfd9900"
      },
      "outputs": [
        {
          "data": {
            "text/plain": [
              "0.9317"
            ]
          },
          "execution_count": 16,
          "metadata": {},
          "output_type": "execute_result"
        }
      ],
      "source": [
        "if diff:\n",
        "    mae = round(np.abs(y_test_bikes).mean(),4)\n",
        "else :\n",
        "    mae = round(np.abs(y_test_bikes-y_base_bikes).mean(),4)\n",
        "mae"
      ]
    },
    {
      "cell_type": "code",
      "execution_count": 17,
      "id": "PKFofYlt3Smc",
      "metadata": {
        "colab": {
          "base_uri": "https://localhost:8080/",
          "height": 282
        },
        "id": "PKFofYlt3Smc",
        "outputId": "e411c780-a802-44c1-e10e-78f9022bc722"
      },
      "outputs": [
        {
          "name": "stdout",
          "output_type": "stream",
          "text": [
            "[0.25, 0.43, 0.58, 0.71, 0.82, 0.93, 1.03, 1.12, 1.21, 1.29, 1.37, 1.45]\n"
          ]
        },
        {
          "data": {
            "image/png": "[encoded data removed]",
            "text/plain": [
              "<Figure size 640x480 with 1 Axes>"
            ]
          },
          "metadata": {},
          "output_type": "display_data"
        }
      ],
      "source": [
        "maes = []\n",
        "\n",
        "for i in range(y_test_bikes.shape[1]):\n",
        "    if diff:\n",
        "        maes.append(np.round(np.abs(y_test_bikes[:,i,:]).mean(),4))\n",
        "    else:\n",
        "        maes.append(np.round(np.abs(y_test_bikes[:,i,:]-y_base_bikes[:,i,:]).mean(),2))\n",
        "\n",
        "print(maes)\n",
        "plt.plot(maes);"
      ]
    },
    {
      "cell_type": "markdown",
      "id": "89136f90",
      "metadata": {},
      "source": [
        "# Scaling and scoring the Baseline on scaled"
      ]
    },
    {
      "cell_type": "code",
      "execution_count": 18,
      "id": "Uj7fpWKu_QZ9",
      "metadata": {
        "colab": {
          "base_uri": "https://localhost:8080/"
        },
        "id": "Uj7fpWKu_QZ9",
        "outputId": "7d7c27eb-246d-4cda-af90-fe8762462d1e"
      },
      "outputs": [
        {
          "name": "stdout",
          "output_type": "stream",
          "text": [
            "X_train : Shape (10000, 12, 430), min 0.0, max 1.0\n",
            "y_train : Shape (10000, 12, 430), min 0.0, max 1.0\n",
            "X_test : Shape (5000, 12, 430), min 0.0, max 15.0\n",
            "y_test : Shape (5000, 12, 430), min 0.0, max 15.0\n"
          ]
        }
      ],
      "source": [
        "if not diff:\n",
        "    scaler = MinMaxNormalization()\n",
        "    scaler.fit_transform(X_train_bikes)\n",
        "    scaler.transform(y_train_bikes)\n",
        "    scaler.transform(X_test_bikes)\n",
        "    scaler.transform(y_test_bikes)\n",
        "    print(f\"X_train : Shape {X_train_bikes.shape}, min {X_train_bikes.min()}, max {X_train_bikes.max()}\")\n",
        "    print(f\"y_train : Shape {y_train_bikes.shape}, min {y_train_bikes.min()}, max {y_train_bikes.max()}\")\n",
        "    print(f\"X_test : Shape {X_test_bikes.shape}, min {X_test_bikes.min()}, max {X_test_bikes.max()}\")\n",
        "    print(f\"y_test : Shape {y_test_bikes.shape}, min {y_test_bikes.min()}, max {y_test_bikes.max()}\")"
      ]
    },
    {
      "cell_type": "code",
      "execution_count": 19,
      "id": "lX7KL46LqqO8",
      "metadata": {
        "colab": {
          "base_uri": "https://localhost:8080/"
        },
        "id": "lX7KL46LqqO8",
        "outputId": "7cefcef7-4674-4626-8bc2-b7eb6ac57008"
      },
      "outputs": [
        {
          "name": "stdout",
          "output_type": "stream",
          "text": [
            "0.0471\n"
          ]
        }
      ],
      "source": [
        "if not diff:\n",
        "    scaler.transform(y_base_bikes)\n",
        "    scaled_base_mae = round(np.abs(y_test_bikes-y_base_bikes).mean(),4)\n",
        "    scaled_base_mae\n",
        "    print(scaled_base_mae)\n"
      ]
    },
    {
      "cell_type": "markdown",
      "id": "bfb81060",
      "metadata": {},
      "source": [
        "# Custom Loss to penalize more later predictions (and keep the baseline for early preditctions)"
      ]
    },
    {
      "cell_type": "code",
      "execution_count": 20,
      "id": "6e414819",
      "metadata": {},
      "outputs": [
        {
          "name": "stderr",
          "output_type": "stream",
          "text": [
            "2022-12-06 16:06:04.400835: I tensorflow/stream_executor/cuda/cuda_gpu_executor.cc:966] could not open file to read NUMA node: /sys/bus/pci/devices/0000:01:00.0/numa_node\n",
            "Your kernel may have been built without NUMA support.\n",
            "2022-12-06 16:06:04.401541: W tensorflow/stream_executor/platform/default/dso_loader.cc:64] Could not load dynamic library 'libcudart.so.11.0'; dlerror: libcudart.so.11.0: cannot open shared object file: No such file or directory\n",
            "2022-12-06 16:06:04.401783: W tensorflow/stream_executor/platform/default/dso_loader.cc:64] Could not load dynamic library 'libcublas.so.11'; dlerror: libcublas.so.11: cannot open shared object file: No such file or directory\n",
            "2022-12-06 16:06:04.401910: W tensorflow/stream_executor/platform/default/dso_loader.cc:64] Could not load dynamic library 'libcublasLt.so.11'; dlerror: libcublasLt.so.11: cannot open shared object file: No such file or directory\n",
            "2022-12-06 16:06:04.402006: W tensorflow/stream_executor/platform/default/dso_loader.cc:64] Could not load dynamic library 'libcufft.so.10'; dlerror: libcufft.so.10: cannot open shared object file: No such file or directory\n",
            "2022-12-06 16:06:04.402164: W tensorflow/stream_executor/platform/default/dso_loader.cc:64] Could not load dynamic library 'libcurand.so.10'; dlerror: libcurand.so.10: cannot open shared object file: No such file or directory\n",
            "2022-12-06 16:06:04.402261: W tensorflow/stream_executor/platform/default/dso_loader.cc:64] Could not load dynamic library 'libcusolver.so.11'; dlerror: libcusolver.so.11: cannot open shared object file: No such file or directory\n",
            "2022-12-06 16:06:04.402350: W tensorflow/stream_executor/platform/default/dso_loader.cc:64] Could not load dynamic library 'libcusparse.so.11'; dlerror: libcusparse.so.11: cannot open shared object file: No such file or directory\n",
            "2022-12-06 16:06:04.402469: W tensorflow/stream_executor/platform/default/dso_loader.cc:64] Could not load dynamic library 'libcudnn.so.8'; dlerror: libcudnn.so.8: cannot open shared object file: No such file or directory\n",
            "2022-12-06 16:06:04.402534: W tensorflow/core/common_runtime/gpu/gpu_device.cc:1934] Cannot dlopen some GPU libraries. Please make sure the missing libraries mentioned above are installed properly if you would like to use GPU. Follow the guide at https://www.tensorflow.org/install/gpu for how to download and setup the required libraries for your platform.\n",
            "Skipping registering GPU devices...\n",
            "2022-12-06 16:06:04.404172: I tensorflow/core/platform/cpu_feature_guard.cc:193] This TensorFlow binary is optimized with oneAPI Deep Neural Network Library (oneDNN) to use the following CPU instructions in performance-critical operations:  AVX2 AVX_VNNI FMA\n",
            "To enable them in other operations, rebuild TensorFlow with the appropriate compiler flags.\n"
          ]
        },
        {
          "data": {
            "text/plain": [
              "tensorflow.python.framework.ops.EagerTensor"
            ]
          },
          "execution_count": 20,
          "metadata": {},
          "output_type": "execute_result"
        }
      ],
      "source": [
        "import tensorflow\n",
        "\n",
        "a = tensorflow.constant([[1, 2], [3, 4]])                 \n",
        "b = tensorflow.add(a, 1)\n",
        "c = a.numpy()\n",
        "for i in range(c.shape[0]):\n",
        "    if i ==0 :\n",
        "        c[i] = (a[i]-b[i]) **2\n",
        "    else :\n",
        "        c[i] = -(a[i]-b[i]) **2\n",
        "\n",
        "\n",
        "type(convert_to_tensor(c))   "
      ]
    },
    {
      "cell_type": "code",
      "execution_count": 21,
      "id": "ca3aba55",
      "metadata": {},
      "outputs": [],
      "source": [
        "low_threshold = 12\n",
        "high_threshold = 12\n",
        "penalization = 4\n",
        "\n",
        "#def make_custom_mse(low_threshold:int=1_000_000_000_000, high_threshold:int=1_000_000_000_000):\n",
        "#    def custom_mse(y_true, y_pred):\n",
        "#        tmp = np.zeros(shape=(y_true.shape[0],y_true.shape[1]))\n",
        "#        for i in range(y_true.shape[0]):\n",
        "#            if i < low_threshold:\n",
        "#                tmp[i] = ((y_true[i]-y_pred[i])**2)\n",
        "#            elif i < high_threshold :\n",
        "#                tmp[i] = ((y_true[i]-y_pred[i])**2) * penalization\n",
        "#            else :\n",
        "#                pass # Custom loss still returns 0       \n",
        "#        return reduce_mean(reduce_mean(tmp, axis=-1),axis=0)\n",
        "#    return custom_mse\n",
        "\n",
        "def make_custom_mae(batch_size:int, low_threshold:int=1_000_000_000_000, high_threshold:int=1_000_000_000_000):\n",
        "    def custom_mae(y_true, y_pred):\n",
        "        tmp = np.zeros(shape=y_true.shape)\n",
        "        for i in range(y_true.shape[1]):\n",
        "            if i < high_threshold :\n",
        "                tmp[i] = np.abs(y_true[i]-y_pred[i])\n",
        "            else :\n",
        "                pass # Custom loss still returns 0       \n",
        "        return reduce_mean(reduce_mean(tmp, axis=-1),axis=1)\n",
        "    return custom_mae\n",
        "\n",
        "def make_custom_mse(batch_size:int, low_threshold:int=1_000_000_000_000, high_threshold:int=1_000_000_000_000):\n",
        "    def custom_mse(y_true, y_pred):\n",
        "        print(y_true.shape, type(y_true))\n",
        "        print(y_pred.shape, type(y_pred))\n",
        "        error = (y_true - y_pred).numpy()\n",
        "        print(error.shape, type(error))\n",
        "        for i in range(error.shape[1]):\n",
        "            if i < low_threshold:\n",
        "                error[:,i,:] = error[:,i,:] ** 2\n",
        "            elif i < high_threshold :\n",
        "                error[:,i,:] = error[:,i,:] ** 2 * penalization\n",
        "            else :\n",
        "                pass # Keeps error to 0   \n",
        "        np_error=convert_to_tensor(error)\n",
        "        print(reduce_mean(reduce_mean(reduce_mean(np_error, axis=-1),axis=1),axis=0))    \n",
        "        return reduce_mean(reduce_mean(reduce_mean(np_error, axis=-1),axis=1),axis=0)\n",
        "    return custom_mse\n",
        "\n",
        "#    return backend.mean(tf.math.squared_difference(y_pred, y_true), axis=-1)"
      ]
    },
    {
      "cell_type": "code",
      "execution_count": 22,
      "id": "1fb281f1",
      "metadata": {},
      "outputs": [
        {
          "name": "stdout",
          "output_type": "stream",
          "text": [
            "(32, 12, 430) <class 'tensorflow.python.framework.ops.EagerTensor'>\n",
            "(32, 12, 430) <class 'tensorflow.python.framework.ops.EagerTensor'>\n",
            "(32, 12, 430) <class 'numpy.ndarray'>\n",
            "tf.Tensor(0.23055295681715487, shape=(), dtype=float64)\n",
            "MSE Base: 0.23055295646190643 vs MSE Custom: 0.23055295681715487\n"
          ]
        }
      ],
      "source": [
        "# Cell to test the validity of the custom loss function (do not forget to adjust thresholds)\n",
        "\n",
        "from tensorflow.keras.metrics import MeanSquaredError, MeanAbsoluteError\n",
        "\n",
        "test_int = 32\n",
        "\n",
        "y_cust_loss_test_a = convert_to_tensor(y_test_bikes[:test_int,:,:])\n",
        "y_cust_loss_test_b = convert_to_tensor(y_train_bikes[:test_int,:,:])\n",
        "\n",
        "mse_base = MeanSquaredError()\n",
        "mae_base = MeanAbsoluteError()\n",
        "custom_mse = make_custom_mse(test_int)\n",
        "custom_mae = make_custom_mae(test_int)\n",
        "\n",
        "#print(f\"MSE Base: {mse_base(y_cust_loss_test_a, y_cust_loss_test_b)} vs MSE Custom: {custom_mse(y_cust_loss_test_a, y_cust_loss_test_b)} / MAE Base: {mae_base(y_cust_loss_test_a, y_cust_loss_test_b)} vs MAE Custom: {custom_mae(y_cust_loss_test_a, y_cust_loss_test_b)}\")\n",
        "print(f\"MSE Base: {mse_base(y_cust_loss_test_a, y_cust_loss_test_b)} vs MSE Custom: {custom_mse(y_cust_loss_test_a, y_cust_loss_test_b)}\")\n"
      ]
    },
    {
      "cell_type": "markdown",
      "id": "Q316FJW405w8",
      "metadata": {
        "id": "Q316FJW405w8"
      },
      "source": [
        "# Modelling"
      ]
    },
    {
      "cell_type": "markdown",
      "id": "1b91e384",
      "metadata": {},
      "source": [
        "### Loss function parameters "
      ]
    },
    {
      "cell_type": "code",
      "execution_count": 29,
      "id": "cc1c5174",
      "metadata": {},
      "outputs": [
        {
          "ename": "ImportError",
          "evalue": "cannot import name 'enable_eager_execution' from 'tensorflow' (/home/arnaud/.pyenv/versions/lewagon/lib/python3.10/site-packages/tensorflow/__init__.py)",
          "output_type": "error",
          "traceback": [
            "\u001b[0;31m---------------------------------------------------------------------------\u001b[0m",
            "\u001b[0;31mImportError\u001b[0m                               Traceback (most recent call last)",
            "Cell \u001b[0;32mIn [29], line 1\u001b[0m\n\u001b[0;32m----> 1\u001b[0m \u001b[39mfrom\u001b[39;00m \u001b[39mtensorflow\u001b[39;00m \u001b[39mimport\u001b[39;00m enable_eager_execution\n\u001b[1;32m      3\u001b[0m enable_eager_execution()\n\u001b[1;32m      5\u001b[0m low_t \u001b[39m=\u001b[39m \u001b[39m3\u001b[39m\n",
            "\u001b[0;31mImportError\u001b[0m: cannot import name 'enable_eager_execution' from 'tensorflow' (/home/arnaud/.pyenv/versions/lewagon/lib/python3.10/site-packages/tensorflow/__init__.py)"
          ]
        }
      ],
      "source": [
        "from tensorflow import enable_eager_execution\n",
        "\n",
        "enable_eager_execution()\n",
        "\n",
        "low_t = 3\n",
        "high_t = 12\n",
        "batch_size= 32"
      ]
    },
    {
      "cell_type": "markdown",
      "id": "59d59fac",
      "metadata": {},
      "source": [
        "### Not Diff"
      ]
    },
    {
      "cell_type": "code",
      "execution_count": 30,
      "id": "f2a4d5ea",
      "metadata": {
        "id": "f2a4d5ea"
      },
      "outputs": [],
      "source": [
        "initial_learning_rate = 0.01\n",
        "decay_steps = 100\n",
        "decay_rate = 0.5\n",
        "lr_schedule = ExponentialDecay(initial_learning_rate, decay_steps = decay_steps, decay_rate = decay_rate,)\n",
        "\n",
        "def init_model(X_train, y_train):\n",
        "\n",
        "    model = Sequential([\n",
        "        layers.GRU(units=256, input_shape = (X_train.shape[1],X_train.shape[2]), activation='tanh', return_sequences=True),\n",
        "        #layers.Dropout(0.2),\n",
        "        #layers.GRU(units=256, activation='tanh', return_sequences=True),\n",
        "        #layers.Dropout(0.2),\n",
        "        #layers.Dense(256,activation = 'relu'),\n",
        "        #layers.Dropout(0.2),\n",
        "        layers.Dense(512,activation = 'relu'),\n",
        "        #layers.Dropout(0.2),\n",
        "        layers.Dense(64,activation = 'relu'),\n",
        "        layers.Dense(64,activation = 'relu'),\n",
        "        layers.Dense(y_train.shape[2], activation='linear')  \n",
        "    ])\n",
        "\n",
        "    model.compile(optimizer=Adam(learning_rate=lr_schedule),\n",
        "                #loss = 'mse',\n",
        "                loss=make_custom_mse(batch_size,low_threshold=low_t, high_threshold=high_t),\n",
        "                #loss = 'mse',\n",
        "                run_eagerly=True,\n",
        "                metrics=['mae'])\n",
        "    return model"
      ]
    },
    {
      "cell_type": "markdown",
      "id": "8e86ba90",
      "metadata": {},
      "source": [
        "### Diff"
      ]
    },
    {
      "cell_type": "code",
      "execution_count": 25,
      "id": "84d1028c",
      "metadata": {},
      "outputs": [],
      "source": [
        "initial_learning_rate = 0.01\n",
        "decay_steps = 100\n",
        "decay_rate = 0.5\n",
        "lr_schedule = ExponentialDecay(initial_learning_rate, decay_steps = decay_steps, decay_rate = decay_rate,)\n",
        "\n",
        "def init_diff_model(X_train, y_train):\n",
        "    \n",
        "    normalizer = Normalization()\n",
        "    normalizer.adapt(X_train)\n",
        "\n",
        "    model = Sequential([\n",
        "        normalizer,\n",
        "        layers.GRU(units=64, activation='tanh', return_sequences=True),\n",
        "        #layers.Dropout(0.2),\n",
        "        layers.GRU(units=64, activation='tanh', return_sequences=True),\n",
        "        #layers.Dropout(0.2),\n",
        "        #layers.Dense(256,activation = 'relu'),\n",
        "        #layers.Dropout(0.2),\n",
        "        #layers.Dense(512,activation = 'relu'),\n",
        "        #layers.Dropout(0.2),\n",
        "        #layers.Dense(64,activation = 'relu'),\n",
        "        #layers.Dense(64,activation = 'relu'),\n",
        "        layers.Dense(y_train.shape[2], activation='linear')  \n",
        "    ])\n",
        "    \n",
        "    model.compile(optimizer=Adam(learning_rate=lr_schedule),\n",
        "                loss=make_custom_mse(batch_size, low_threshold=low_t, high_threshold=high_t),\n",
        "                metrics=['mae'])\n",
        "    return model"
      ]
    },
    {
      "cell_type": "markdown",
      "id": "c25d8680",
      "metadata": {},
      "source": [
        "### All"
      ]
    },
    {
      "cell_type": "code",
      "execution_count": 31,
      "id": "bef522dc",
      "metadata": {
        "id": "bef522dc"
      },
      "outputs": [
        {
          "name": "stdout",
          "output_type": "stream",
          "text": [
            "Model: \"sequential_2\"\n",
            "_________________________________________________________________\n",
            " Layer (type)                Output Shape              Param #   \n",
            "=================================================================\n",
            " gru_2 (GRU)                 (None, 12, 256)           528384    \n",
            "                                                                 \n",
            " dense_8 (Dense)             (None, 12, 512)           131584    \n",
            "                                                                 \n",
            " dense_9 (Dense)             (None, 12, 64)            32832     \n",
            "                                                                 \n",
            " dense_10 (Dense)            (None, 12, 64)            4160      \n",
            "                                                                 \n",
            " dense_11 (Dense)            (None, 12, 430)           27950     \n",
            "                                                                 \n",
            "=================================================================\n",
            "Total params: 724,910\n",
            "Trainable params: 724,910\n",
            "Non-trainable params: 0\n",
            "_________________________________________________________________\n"
          ]
        }
      ],
      "source": [
        "if diff:\n",
        "    model = init_diff_model(X_train_bikes, y_train_bikes)\n",
        "else :\n",
        "    model = init_model(X_train_bikes, y_train_bikes)\n",
        "model.summary()\n"
      ]
    },
    {
      "cell_type": "code",
      "execution_count": 32,
      "id": "34bf954f",
      "metadata": {
        "id": "34bf954f"
      },
      "outputs": [],
      "source": [
        "from tensorflow.keras.callbacks import EarlyStopping\n",
        "\n",
        "def fit_model(model,X,y):\n",
        "    es = EarlyStopping(patience=6,restore_best_weights = True)\n",
        "    history = model.fit(X,y,epochs = 200,callbacks=es,batch_size=batch_size, validation_split=0.3)\n",
        "    return(model,history)"
      ]
    },
    {
      "cell_type": "code",
      "execution_count": 33,
      "id": "4ec09b0b",
      "metadata": {
        "id": "4ec09b0b"
      },
      "outputs": [
        {
          "name": "stdout",
          "output_type": "stream",
          "text": [
            "yes\n",
            "Epoch 1/200\n",
            "(32, 12, 430) <class 'tensorflow.python.framework.ops.EagerTensor'>\n",
            "(32, 12, 430) <class 'tensorflow.python.framework.ops.EagerTensor'>\n",
            "(32, 12, 430) <class 'numpy.ndarray'>\n",
            "tf.Tensor(0.8936571, shape=(), dtype=float32)\n"
          ]
        },
        {
          "ename": "ValueError",
          "evalue": "No gradients provided for any variable: (['gru_3/gru_cell_3/kernel:0', 'gru_3/gru_cell_3/recurrent_kernel:0', 'gru_3/gru_cell_3/bias:0', 'dense_12/kernel:0', 'dense_12/bias:0', 'dense_13/kernel:0', 'dense_13/bias:0', 'dense_14/kernel:0', 'dense_14/bias:0', 'dense_15/kernel:0', 'dense_15/bias:0'],). Provided `grads_and_vars` is ((None, <tf.Variable 'gru_3/gru_cell_3/kernel:0' shape=(430, 768) dtype=float32, numpy=\narray([[-0.01287425, -0.05915565,  0.05448381, ..., -0.04105786,\n        -0.03436672, -0.06026015],\n       [ 0.04116546, -0.06449559,  0.0357568 , ..., -0.03792779,\n        -0.04182598, -0.01543674],\n       [ 0.0272619 , -0.02648311, -0.0411903 , ...,  0.00887268,\n         0.05816408,  0.02435903],\n       ...,\n       [-0.06003624,  0.03474361, -0.02908725, ...,  0.00924098,\n        -0.05271982, -0.00667275],\n       [ 0.01508685,  0.07069223, -0.06592907, ...,  0.00637092,\n         0.02403337, -0.02720478],\n       [-0.04757689,  0.04897212, -0.01957598, ...,  0.05892297,\n         0.05272418, -0.06980672]], dtype=float32)>), (None, <tf.Variable 'gru_3/gru_cell_3/recurrent_kernel:0' shape=(256, 768) dtype=float32, numpy=\narray([[-0.00683689,  0.00316491,  0.00961637, ..., -0.00434522,\n        -0.01514333, -0.0136807 ],\n       [ 0.03708032,  0.04792964, -0.03503641, ...,  0.00947174,\n         0.06453106, -0.03310475],\n       [-0.03512521, -0.02990579,  0.0219357 , ..., -0.0556965 ,\n         0.0583851 ,  0.00339582],\n       ...,\n       [-0.01941029, -0.04113177,  0.01054165, ...,  0.02984609,\n         0.00104155, -0.00221556],\n       [-0.01656208, -0.00618625, -0.01054408, ...,  0.02607044,\n        -0.01945095, -0.02501416],\n       [-0.02686219, -0.01206619,  0.00906326, ..., -0.03667138,\n        -0.00268356, -0.01064636]], dtype=float32)>), (None, <tf.Variable 'gru_3/gru_cell_3/bias:0' shape=(2, 768) dtype=float32, numpy=\narray([[0., 0., 0., ..., 0., 0., 0.],\n       [0., 0., 0., ..., 0., 0., 0.]], dtype=float32)>), (None, <tf.Variable 'dense_12/kernel:0' shape=(256, 512) dtype=float32, numpy=\narray([[ 0.0130277 ,  0.00321265, -0.04043899, ...,  0.05040506,\n        -0.0354216 ,  0.03843697],\n       [ 0.0804828 ,  0.06487771, -0.00522052, ...,  0.02169728,\n         0.06789789, -0.03342547],\n       [-0.03205793,  0.07107747, -0.05314656, ...,  0.04165173,\n         0.02039347, -0.0363195 ],\n       ...,\n       [ 0.05158473,  0.01887035,  0.07156672, ..., -0.07699816,\n        -0.01141454,  0.03816245],\n       [ 0.00191315, -0.07828682,  0.023756  , ..., -0.00687396,\n         0.05598869,  0.00234789],\n       [-0.06497207,  0.01194758,  0.01467954, ..., -0.04575363,\n        -0.07408514,  0.08161248]], dtype=float32)>), (None, <tf.Variable 'dense_12/bias:0' shape=(512,) dtype=float32, numpy=\narray([0., 0., 0., 0., 0., 0., 0., 0., 0., 0., 0., 0., 0., 0., 0., 0., 0.,\n       0., 0., 0., 0., 0., 0., 0., 0., 0., 0., 0., 0., 0., 0., 0., 0., 0.,\n       0., 0., 0., 0., 0., 0., 0., 0., 0., 0., 0., 0., 0., 0., 0., 0., 0.,\n       0., 0., 0., 0., 0., 0., 0., 0., 0., 0., 0., 0., 0., 0., 0., 0., 0.,\n       0., 0., 0., 0., 0., 0., 0., 0., 0., 0., 0., 0., 0., 0., 0., 0., 0.,\n       0., 0., 0., 0., 0., 0., 0., 0., 0., 0., 0., 0., 0., 0., 0., 0., 0.,\n       0., 0., 0., 0., 0., 0., 0., 0., 0., 0., 0., 0., 0., 0., 0., 0., 0.,\n       0., 0., 0., 0., 0., 0., 0., 0., 0., 0., 0., 0., 0., 0., 0., 0., 0.,\n       0., 0., 0., 0., 0., 0., 0., 0., 0., 0., 0., 0., 0., 0., 0., 0., 0.,\n       0., 0., 0., 0., 0., 0., 0., 0., 0., 0., 0., 0., 0., 0., 0., 0., 0.,\n       0., 0., 0., 0., 0., 0., 0., 0., 0., 0., 0., 0., 0., 0., 0., 0., 0.,\n       0., 0., 0., 0., 0., 0., 0., 0., 0., 0., 0., 0., 0., 0., 0., 0., 0.,\n       0., 0., 0., 0., 0., 0., 0., 0., 0., 0., 0., 0., 0., 0., 0., 0., 0.,\n       0., 0., 0., 0., 0., 0., 0., 0., 0., 0., 0., 0., 0., 0., 0., 0., 0.,\n       0., 0., 0., 0., 0., 0., 0., 0., 0., 0., 0., 0., 0., 0., 0., 0., 0.,\n       0., 0., 0., 0., 0., 0., 0., 0., 0., 0., 0., 0., 0., 0., 0., 0., 0.,\n       0., 0., 0., 0., 0., 0., 0., 0., 0., 0., 0., 0., 0., 0., 0., 0., 0.,\n       0., 0., 0., 0., 0., 0., 0., 0., 0., 0., 0., 0., 0., 0., 0., 0., 0.,\n       0., 0., 0., 0., 0., 0., 0., 0., 0., 0., 0., 0., 0., 0., 0., 0., 0.,\n       0., 0., 0., 0., 0., 0., 0., 0., 0., 0., 0., 0., 0., 0., 0., 0., 0.,\n       0., 0., 0., 0., 0., 0., 0., 0., 0., 0., 0., 0., 0., 0., 0., 0., 0.,\n       0., 0., 0., 0., 0., 0., 0., 0., 0., 0., 0., 0., 0., 0., 0., 0., 0.,\n       0., 0., 0., 0., 0., 0., 0., 0., 0., 0., 0., 0., 0., 0., 0., 0., 0.,\n       0., 0., 0., 0., 0., 0., 0., 0., 0., 0., 0., 0., 0., 0., 0., 0., 0.,\n       0., 0., 0., 0., 0., 0., 0., 0., 0., 0., 0., 0., 0., 0., 0., 0., 0.,\n       0., 0., 0., 0., 0., 0., 0., 0., 0., 0., 0., 0., 0., 0., 0., 0., 0.,\n       0., 0., 0., 0., 0., 0., 0., 0., 0., 0., 0., 0., 0., 0., 0., 0., 0.,\n       0., 0., 0., 0., 0., 0., 0., 0., 0., 0., 0., 0., 0., 0., 0., 0., 0.,\n       0., 0., 0., 0., 0., 0., 0., 0., 0., 0., 0., 0., 0., 0., 0., 0., 0.,\n       0., 0., 0., 0., 0., 0., 0., 0., 0., 0., 0., 0., 0., 0., 0., 0., 0.,\n       0., 0.], dtype=float32)>), (None, <tf.Variable 'dense_13/kernel:0' shape=(512, 64) dtype=float32, numpy=\narray([[-0.07210515, -0.04208164, -0.01537008, ..., -0.03926056,\n        -0.04262703,  0.05510822],\n       [-0.08970193,  0.05222486, -0.09077895, ...,  0.04613119,\n        -0.03058117,  0.07353857],\n       [-0.0262756 , -0.02724896, -0.05519781, ..., -0.09395223,\n        -0.07780199,  0.0321821 ],\n       ...,\n       [ 0.0919084 , -0.08143421, -0.03269356, ..., -0.05772825,\n        -0.10138556,  0.0841126 ],\n       [ 0.03772317, -0.00545394,  0.06995833, ...,  0.09889565,\n        -0.01432043,  0.0914235 ],\n       [-0.07294454,  0.09274386, -0.08418158, ...,  0.02000897,\n        -0.02644878, -0.02433512]], dtype=float32)>), (None, <tf.Variable 'dense_13/bias:0' shape=(64,) dtype=float32, numpy=\narray([0., 0., 0., 0., 0., 0., 0., 0., 0., 0., 0., 0., 0., 0., 0., 0., 0.,\n       0., 0., 0., 0., 0., 0., 0., 0., 0., 0., 0., 0., 0., 0., 0., 0., 0.,\n       0., 0., 0., 0., 0., 0., 0., 0., 0., 0., 0., 0., 0., 0., 0., 0., 0.,\n       0., 0., 0., 0., 0., 0., 0., 0., 0., 0., 0., 0., 0.], dtype=float32)>), (None, <tf.Variable 'dense_14/kernel:0' shape=(64, 64) dtype=float32, numpy=\narray([[-0.05344129,  0.19483007, -0.0956948 , ...,  0.07158925,\n         0.09791501,  0.19989975],\n       [-0.00748065,  0.02490938,  0.10120444, ..., -0.0254952 ,\n         0.02535398, -0.17695737],\n       [ 0.02466264, -0.13076149,  0.03245151, ...,  0.05050121,\n        -0.21139683,  0.19589551],\n       ...,\n       [ 0.19507806, -0.09338144,  0.03142872, ..., -0.13842033,\n         0.0719438 ,  0.16772027],\n       [ 0.15588276,  0.10744332, -0.00079127, ...,  0.08451049,\n        -0.17913559, -0.12002781],\n       [ 0.10160978, -0.10647231,  0.03402089, ..., -0.13638318,\n        -0.16595082, -0.03452189]], dtype=float32)>), (None, <tf.Variable 'dense_14/bias:0' shape=(64,) dtype=float32, numpy=\narray([0., 0., 0., 0., 0., 0., 0., 0., 0., 0., 0., 0., 0., 0., 0., 0., 0.,\n       0., 0., 0., 0., 0., 0., 0., 0., 0., 0., 0., 0., 0., 0., 0., 0., 0.,\n       0., 0., 0., 0., 0., 0., 0., 0., 0., 0., 0., 0., 0., 0., 0., 0., 0.,\n       0., 0., 0., 0., 0., 0., 0., 0., 0., 0., 0., 0., 0.], dtype=float32)>), (None, <tf.Variable 'dense_15/kernel:0' shape=(64, 430) dtype=float32, numpy=\narray([[ 0.0899467 , -0.0146186 , -0.06258017, ...,  0.06223807,\n        -0.05925765,  0.08667789],\n       [ 0.09192395, -0.03424241,  0.02728096, ..., -0.03231142,\n        -0.03632401,  0.10933776],\n       [-0.08123775, -0.03436919, -0.092627  , ...,  0.10994954,\n         0.03340469,  0.10392143],\n       ...,\n       [ 0.04607482, -0.01402343,  0.06310631, ..., -0.03748193,\n        -0.017712  , -0.09981883],\n       [-0.01875834, -0.00677897,  0.03142615, ...,  0.07638927,\n         0.05536477, -0.01379815],\n       [-0.07182113, -0.00666606,  0.0667316 , ...,  0.10801321,\n         0.10461591, -0.04115717]], dtype=float32)>), (None, <tf.Variable 'dense_15/bias:0' shape=(430,) dtype=float32, numpy=\narray([0., 0., 0., 0., 0., 0., 0., 0., 0., 0., 0., 0., 0., 0., 0., 0., 0.,\n       0., 0., 0., 0., 0., 0., 0., 0., 0., 0., 0., 0., 0., 0., 0., 0., 0.,\n       0., 0., 0., 0., 0., 0., 0., 0., 0., 0., 0., 0., 0., 0., 0., 0., 0.,\n       0., 0., 0., 0., 0., 0., 0., 0., 0., 0., 0., 0., 0., 0., 0., 0., 0.,\n       0., 0., 0., 0., 0., 0., 0., 0., 0., 0., 0., 0., 0., 0., 0., 0., 0.,\n       0., 0., 0., 0., 0., 0., 0., 0., 0., 0., 0., 0., 0., 0., 0., 0., 0.,\n       0., 0., 0., 0., 0., 0., 0., 0., 0., 0., 0., 0., 0., 0., 0., 0., 0.,\n       0., 0., 0., 0., 0., 0., 0., 0., 0., 0., 0., 0., 0., 0., 0., 0., 0.,\n       0., 0., 0., 0., 0., 0., 0., 0., 0., 0., 0., 0., 0., 0., 0., 0., 0.,\n       0., 0., 0., 0., 0., 0., 0., 0., 0., 0., 0., 0., 0., 0., 0., 0., 0.,\n       0., 0., 0., 0., 0., 0., 0., 0., 0., 0., 0., 0., 0., 0., 0., 0., 0.,\n       0., 0., 0., 0., 0., 0., 0., 0., 0., 0., 0., 0., 0., 0., 0., 0., 0.,\n       0., 0., 0., 0., 0., 0., 0., 0., 0., 0., 0., 0., 0., 0., 0., 0., 0.,\n       0., 0., 0., 0., 0., 0., 0., 0., 0., 0., 0., 0., 0., 0., 0., 0., 0.,\n       0., 0., 0., 0., 0., 0., 0., 0., 0., 0., 0., 0., 0., 0., 0., 0., 0.,\n       0., 0., 0., 0., 0., 0., 0., 0., 0., 0., 0., 0., 0., 0., 0., 0., 0.,\n       0., 0., 0., 0., 0., 0., 0., 0., 0., 0., 0., 0., 0., 0., 0., 0., 0.,\n       0., 0., 0., 0., 0., 0., 0., 0., 0., 0., 0., 0., 0., 0., 0., 0., 0.,\n       0., 0., 0., 0., 0., 0., 0., 0., 0., 0., 0., 0., 0., 0., 0., 0., 0.,\n       0., 0., 0., 0., 0., 0., 0., 0., 0., 0., 0., 0., 0., 0., 0., 0., 0.,\n       0., 0., 0., 0., 0., 0., 0., 0., 0., 0., 0., 0., 0., 0., 0., 0., 0.,\n       0., 0., 0., 0., 0., 0., 0., 0., 0., 0., 0., 0., 0., 0., 0., 0., 0.,\n       0., 0., 0., 0., 0., 0., 0., 0., 0., 0., 0., 0., 0., 0., 0., 0., 0.,\n       0., 0., 0., 0., 0., 0., 0., 0., 0., 0., 0., 0., 0., 0., 0., 0., 0.,\n       0., 0., 0., 0., 0., 0., 0., 0., 0., 0., 0., 0., 0., 0., 0., 0., 0.,\n       0., 0., 0., 0., 0.], dtype=float32)>)).",
          "output_type": "error",
          "traceback": [
            "\u001b[0;31m---------------------------------------------------------------------------\u001b[0m",
            "\u001b[0;31mValueError\u001b[0m                                Traceback (most recent call last)",
            "Cell \u001b[0;32mIn [33], line 4\u001b[0m\n\u001b[1;32m      2\u001b[0m \u001b[39mif\u001b[39;00m model\u001b[39m.\u001b[39mtrainable:\n\u001b[1;32m      3\u001b[0m     \u001b[39mprint\u001b[39m(\u001b[39m'\u001b[39m\u001b[39myes\u001b[39m\u001b[39m'\u001b[39m)\n\u001b[0;32m----> 4\u001b[0m model,history \u001b[39m=\u001b[39m fit_model(model,X_train_bikes,y_train_bikes)\n",
            "Cell \u001b[0;32mIn [32], line 5\u001b[0m, in \u001b[0;36mfit_model\u001b[0;34m(model, X, y)\u001b[0m\n\u001b[1;32m      3\u001b[0m \u001b[39mdef\u001b[39;00m \u001b[39mfit_model\u001b[39m(model,X,y):\n\u001b[1;32m      4\u001b[0m     es \u001b[39m=\u001b[39m EarlyStopping(patience\u001b[39m=\u001b[39m\u001b[39m6\u001b[39m,restore_best_weights \u001b[39m=\u001b[39m \u001b[39mTrue\u001b[39;00m)\n\u001b[0;32m----> 5\u001b[0m     history \u001b[39m=\u001b[39m model\u001b[39m.\u001b[39;49mfit(X,y,epochs \u001b[39m=\u001b[39;49m \u001b[39m200\u001b[39;49m,callbacks\u001b[39m=\u001b[39;49mes,batch_size\u001b[39m=\u001b[39;49mbatch_size, validation_split\u001b[39m=\u001b[39;49m\u001b[39m0.3\u001b[39;49m)\n\u001b[1;32m      6\u001b[0m     \u001b[39mreturn\u001b[39;00m(model,history)\n",
            "File \u001b[0;32m~/.pyenv/versions/lewagon/lib/python3.10/site-packages/keras/utils/traceback_utils.py:70\u001b[0m, in \u001b[0;36mfilter_traceback.<locals>.error_handler\u001b[0;34m(*args, **kwargs)\u001b[0m\n\u001b[1;32m     67\u001b[0m     filtered_tb \u001b[39m=\u001b[39m _process_traceback_frames(e\u001b[39m.\u001b[39m__traceback__)\n\u001b[1;32m     68\u001b[0m     \u001b[39m# To get the full stack trace, call:\u001b[39;00m\n\u001b[1;32m     69\u001b[0m     \u001b[39m# `tf.debugging.disable_traceback_filtering()`\u001b[39;00m\n\u001b[0;32m---> 70\u001b[0m     \u001b[39mraise\u001b[39;00m e\u001b[39m.\u001b[39mwith_traceback(filtered_tb) \u001b[39mfrom\u001b[39;00m \u001b[39mNone\u001b[39m\n\u001b[1;32m     71\u001b[0m \u001b[39mfinally\u001b[39;00m:\n\u001b[1;32m     72\u001b[0m     \u001b[39mdel\u001b[39;00m filtered_tb\n",
            "File \u001b[0;32m~/.pyenv/versions/lewagon/lib/python3.10/site-packages/keras/optimizers/optimizer_v2/utils.py:77\u001b[0m, in \u001b[0;36mfilter_empty_gradients\u001b[0;34m(grads_and_vars)\u001b[0m\n\u001b[1;32m     75\u001b[0m \u001b[39mif\u001b[39;00m \u001b[39mnot\u001b[39;00m filtered:\n\u001b[1;32m     76\u001b[0m     variable \u001b[39m=\u001b[39m ([v\u001b[39m.\u001b[39mname \u001b[39mfor\u001b[39;00m _, v \u001b[39min\u001b[39;00m grads_and_vars],)\n\u001b[0;32m---> 77\u001b[0m     \u001b[39mraise\u001b[39;00m \u001b[39mValueError\u001b[39;00m(\n\u001b[1;32m     78\u001b[0m         \u001b[39mf\u001b[39m\u001b[39m\"\u001b[39m\u001b[39mNo gradients provided for any variable: \u001b[39m\u001b[39m{\u001b[39;00mvariable\u001b[39m}\u001b[39;00m\u001b[39m. \u001b[39m\u001b[39m\"\u001b[39m\n\u001b[1;32m     79\u001b[0m         \u001b[39mf\u001b[39m\u001b[39m\"\u001b[39m\u001b[39mProvided `grads_and_vars` is \u001b[39m\u001b[39m{\u001b[39;00mgrads_and_vars\u001b[39m}\u001b[39;00m\u001b[39m.\u001b[39m\u001b[39m\"\u001b[39m\n\u001b[1;32m     80\u001b[0m     )\n\u001b[1;32m     81\u001b[0m \u001b[39mif\u001b[39;00m vars_with_empty_grads:\n\u001b[1;32m     82\u001b[0m     logging\u001b[39m.\u001b[39mwarning(\n\u001b[1;32m     83\u001b[0m         (\n\u001b[1;32m     84\u001b[0m             \u001b[39m\"\u001b[39m\u001b[39mGradients do not exist for variables \u001b[39m\u001b[39m%s\u001b[39;00m\u001b[39m when minimizing the \u001b[39m\u001b[39m\"\u001b[39m\n\u001b[0;32m   (...)\u001b[0m\n\u001b[1;32m     88\u001b[0m         ([v\u001b[39m.\u001b[39mname \u001b[39mfor\u001b[39;00m v \u001b[39min\u001b[39;00m vars_with_empty_grads]),\n\u001b[1;32m     89\u001b[0m     )\n",
            "\u001b[0;31mValueError\u001b[0m: No gradients provided for any variable: (['gru_3/gru_cell_3/kernel:0', 'gru_3/gru_cell_3/recurrent_kernel:0', 'gru_3/gru_cell_3/bias:0', 'dense_12/kernel:0', 'dense_12/bias:0', 'dense_13/kernel:0', 'dense_13/bias:0', 'dense_14/kernel:0', 'dense_14/bias:0', 'dense_15/kernel:0', 'dense_15/bias:0'],). Provided `grads_and_vars` is ((None, <tf.Variable 'gru_3/gru_cell_3/kernel:0' shape=(430, 768) dtype=float32, numpy=\narray([[-0.01287425, -0.05915565,  0.05448381, ..., -0.04105786,\n        -0.03436672, -0.06026015],\n       [ 0.04116546, -0.06449559,  0.0357568 , ..., -0.03792779,\n        -0.04182598, -0.01543674],\n       [ 0.0272619 , -0.02648311, -0.0411903 , ...,  0.00887268,\n         0.05816408,  0.02435903],\n       ...,\n       [-0.06003624,  0.03474361, -0.02908725, ...,  0.00924098,\n        -0.05271982, -0.00667275],\n       [ 0.01508685,  0.07069223, -0.06592907, ...,  0.00637092,\n         0.02403337, -0.02720478],\n       [-0.04757689,  0.04897212, -0.01957598, ...,  0.05892297,\n         0.05272418, -0.06980672]], dtype=float32)>), (None, <tf.Variable 'gru_3/gru_cell_3/recurrent_kernel:0' shape=(256, 768) dtype=float32, numpy=\narray([[-0.00683689,  0.00316491,  0.00961637, ..., -0.00434522,\n        -0.01514333, -0.0136807 ],\n       [ 0.03708032,  0.04792964, -0.03503641, ...,  0.00947174,\n         0.06453106, -0.03310475],\n       [-0.03512521, -0.02990579,  0.0219357 , ..., -0.0556965 ,\n         0.0583851 ,  0.00339582],\n       ...,\n       [-0.01941029, -0.04113177,  0.01054165, ...,  0.02984609,\n         0.00104155, -0.00221556],\n       [-0.01656208, -0.00618625, -0.01054408, ...,  0.02607044,\n        -0.01945095, -0.02501416],\n       [-0.02686219, -0.01206619,  0.00906326, ..., -0.03667138,\n        -0.00268356, -0.01064636]], dtype=float32)>), (None, <tf.Variable 'gru_3/gru_cell_3/bias:0' shape=(2, 768) dtype=float32, numpy=\narray([[0., 0., 0., ..., 0., 0., 0.],\n       [0., 0., 0., ..., 0., 0., 0.]], dtype=float32)>), (None, <tf.Variable 'dense_12/kernel:0' shape=(256, 512) dtype=float32, numpy=\narray([[ 0.0130277 ,  0.00321265, -0.04043899, ...,  0.05040506,\n        -0.0354216 ,  0.03843697],\n       [ 0.0804828 ,  0.06487771, -0.00522052, ...,  0.02169728,\n         0.06789789, -0.03342547],\n       [-0.03205793,  0.07107747, -0.05314656, ...,  0.04165173,\n         0.02039347, -0.0363195 ],\n       ...,\n       [ 0.05158473,  0.01887035,  0.07156672, ..., -0.07699816,\n        -0.01141454,  0.03816245],\n       [ 0.00191315, -0.07828682,  0.023756  , ..., -0.00687396,\n         0.05598869,  0.00234789],\n       [-0.06497207,  0.01194758,  0.01467954, ..., -0.04575363,\n        -0.07408514,  0.08161248]], dtype=float32)>), (None, <tf.Variable 'dense_12/bias:0' shape=(512,) dtype=float32, numpy=\narray([0., 0., 0., 0., 0., 0., 0., 0., 0., 0., 0., 0., 0., 0., 0., 0., 0.,\n       0., 0., 0., 0., 0., 0., 0., 0., 0., 0., 0., 0., 0., 0., 0., 0., 0.,\n       0., 0., 0., 0., 0., 0., 0., 0., 0., 0., 0., 0., 0., 0., 0., 0., 0.,\n       0., 0., 0., 0., 0., 0., 0., 0., 0., 0., 0., 0., 0., 0., 0., 0., 0.,\n       0., 0., 0., 0., 0., 0., 0., 0., 0., 0., 0., 0., 0., 0., 0., 0., 0.,\n       0., 0., 0., 0., 0., 0., 0., 0., 0., 0., 0., 0., 0., 0., 0., 0., 0.,\n       0., 0., 0., 0., 0., 0., 0., 0., 0., 0., 0., 0., 0., 0., 0., 0., 0.,\n       0., 0., 0., 0., 0., 0., 0., 0., 0., 0., 0., 0., 0., 0., 0., 0., 0.,\n       0., 0., 0., 0., 0., 0., 0., 0., 0., 0., 0., 0., 0., 0., 0., 0., 0.,\n       0., 0., 0., 0., 0., 0., 0., 0., 0., 0., 0., 0., 0., 0., 0., 0., 0.,\n       0., 0., 0., 0., 0., 0., 0., 0., 0., 0., 0., 0., 0., 0., 0., 0., 0.,\n       0., 0., 0., 0., 0., 0., 0., 0., 0., 0., 0., 0., 0., 0., 0., 0., 0.,\n       0., 0., 0., 0., 0., 0., 0., 0., 0., 0., 0., 0., 0., 0., 0., 0., 0.,\n       0., 0., 0., 0., 0., 0., 0., 0., 0., 0., 0., 0., 0., 0., 0., 0., 0.,\n       0., 0., 0., 0., 0., 0., 0., 0., 0., 0., 0., 0., 0., 0., 0., 0., 0.,\n       0., 0., 0., 0., 0., 0., 0., 0., 0., 0., 0., 0., 0., 0., 0., 0., 0.,\n       0., 0., 0., 0., 0., 0., 0., 0., 0., 0., 0., 0., 0., 0., 0., 0., 0.,\n       0., 0., 0., 0., 0., 0., 0., 0., 0., 0., 0., 0., 0., 0., 0., 0., 0.,\n       0., 0., 0., 0., 0., 0., 0., 0., 0., 0., 0., 0., 0., 0., 0., 0., 0.,\n       0., 0., 0., 0., 0., 0., 0., 0., 0., 0., 0., 0., 0., 0., 0., 0., 0.,\n       0., 0., 0., 0., 0., 0., 0., 0., 0., 0., 0., 0., 0., 0., 0., 0., 0.,\n       0., 0., 0., 0., 0., 0., 0., 0., 0., 0., 0., 0., 0., 0., 0., 0., 0.,\n       0., 0., 0., 0., 0., 0., 0., 0., 0., 0., 0., 0., 0., 0., 0., 0., 0.,\n       0., 0., 0., 0., 0., 0., 0., 0., 0., 0., 0., 0., 0., 0., 0., 0., 0.,\n       0., 0., 0., 0., 0., 0., 0., 0., 0., 0., 0., 0., 0., 0., 0., 0., 0.,\n       0., 0., 0., 0., 0., 0., 0., 0., 0., 0., 0., 0., 0., 0., 0., 0., 0.,\n       0., 0., 0., 0., 0., 0., 0., 0., 0., 0., 0., 0., 0., 0., 0., 0., 0.,\n       0., 0., 0., 0., 0., 0., 0., 0., 0., 0., 0., 0., 0., 0., 0., 0., 0.,\n       0., 0., 0., 0., 0., 0., 0., 0., 0., 0., 0., 0., 0., 0., 0., 0., 0.,\n       0., 0., 0., 0., 0., 0., 0., 0., 0., 0., 0., 0., 0., 0., 0., 0., 0.,\n       0., 0.], dtype=float32)>), (None, <tf.Variable 'dense_13/kernel:0' shape=(512, 64) dtype=float32, numpy=\narray([[-0.07210515, -0.04208164, -0.01537008, ..., -0.03926056,\n        -0.04262703,  0.05510822],\n       [-0.08970193,  0.05222486, -0.09077895, ...,  0.04613119,\n        -0.03058117,  0.07353857],\n       [-0.0262756 , -0.02724896, -0.05519781, ..., -0.09395223,\n        -0.07780199,  0.0321821 ],\n       ...,\n       [ 0.0919084 , -0.08143421, -0.03269356, ..., -0.05772825,\n        -0.10138556,  0.0841126 ],\n       [ 0.03772317, -0.00545394,  0.06995833, ...,  0.09889565,\n        -0.01432043,  0.0914235 ],\n       [-0.07294454,  0.09274386, -0.08418158, ...,  0.02000897,\n        -0.02644878, -0.02433512]], dtype=float32)>), (None, <tf.Variable 'dense_13/bias:0' shape=(64,) dtype=float32, numpy=\narray([0., 0., 0., 0., 0., 0., 0., 0., 0., 0., 0., 0., 0., 0., 0., 0., 0.,\n       0., 0., 0., 0., 0., 0., 0., 0., 0., 0., 0., 0., 0., 0., 0., 0., 0.,\n       0., 0., 0., 0., 0., 0., 0., 0., 0., 0., 0., 0., 0., 0., 0., 0., 0.,\n       0., 0., 0., 0., 0., 0., 0., 0., 0., 0., 0., 0., 0.], dtype=float32)>), (None, <tf.Variable 'dense_14/kernel:0' shape=(64, 64) dtype=float32, numpy=\narray([[-0.05344129,  0.19483007, -0.0956948 , ...,  0.07158925,\n         0.09791501,  0.19989975],\n       [-0.00748065,  0.02490938,  0.10120444, ..., -0.0254952 ,\n         0.02535398, -0.17695737],\n       [ 0.02466264, -0.13076149,  0.03245151, ...,  0.05050121,\n        -0.21139683,  0.19589551],\n       ...,\n       [ 0.19507806, -0.09338144,  0.03142872, ..., -0.13842033,\n         0.0719438 ,  0.16772027],\n       [ 0.15588276,  0.10744332, -0.00079127, ...,  0.08451049,\n        -0.17913559, -0.12002781],\n       [ 0.10160978, -0.10647231,  0.03402089, ..., -0.13638318,\n        -0.16595082, -0.03452189]], dtype=float32)>), (None, <tf.Variable 'dense_14/bias:0' shape=(64,) dtype=float32, numpy=\narray([0., 0., 0., 0., 0., 0., 0., 0., 0., 0., 0., 0., 0., 0., 0., 0., 0.,\n       0., 0., 0., 0., 0., 0., 0., 0., 0., 0., 0., 0., 0., 0., 0., 0., 0.,\n       0., 0., 0., 0., 0., 0., 0., 0., 0., 0., 0., 0., 0., 0., 0., 0., 0.,\n       0., 0., 0., 0., 0., 0., 0., 0., 0., 0., 0., 0., 0.], dtype=float32)>), (None, <tf.Variable 'dense_15/kernel:0' shape=(64, 430) dtype=float32, numpy=\narray([[ 0.0899467 , -0.0146186 , -0.06258017, ...,  0.06223807,\n        -0.05925765,  0.08667789],\n       [ 0.09192395, -0.03424241,  0.02728096, ..., -0.03231142,\n        -0.03632401,  0.10933776],\n       [-0.08123775, -0.03436919, -0.092627  , ...,  0.10994954,\n         0.03340469,  0.10392143],\n       ...,\n       [ 0.04607482, -0.01402343,  0.06310631, ..., -0.03748193,\n        -0.017712  , -0.09981883],\n       [-0.01875834, -0.00677897,  0.03142615, ...,  0.07638927,\n         0.05536477, -0.01379815],\n       [-0.07182113, -0.00666606,  0.0667316 , ...,  0.10801321,\n         0.10461591, -0.04115717]], dtype=float32)>), (None, <tf.Variable 'dense_15/bias:0' shape=(430,) dtype=float32, numpy=\narray([0., 0., 0., 0., 0., 0., 0., 0., 0., 0., 0., 0., 0., 0., 0., 0., 0.,\n       0., 0., 0., 0., 0., 0., 0., 0., 0., 0., 0., 0., 0., 0., 0., 0., 0.,\n       0., 0., 0., 0., 0., 0., 0., 0., 0., 0., 0., 0., 0., 0., 0., 0., 0.,\n       0., 0., 0., 0., 0., 0., 0., 0., 0., 0., 0., 0., 0., 0., 0., 0., 0.,\n       0., 0., 0., 0., 0., 0., 0., 0., 0., 0., 0., 0., 0., 0., 0., 0., 0.,\n       0., 0., 0., 0., 0., 0., 0., 0., 0., 0., 0., 0., 0., 0., 0., 0., 0.,\n       0., 0., 0., 0., 0., 0., 0., 0., 0., 0., 0., 0., 0., 0., 0., 0., 0.,\n       0., 0., 0., 0., 0., 0., 0., 0., 0., 0., 0., 0., 0., 0., 0., 0., 0.,\n       0., 0., 0., 0., 0., 0., 0., 0., 0., 0., 0., 0., 0., 0., 0., 0., 0.,\n       0., 0., 0., 0., 0., 0., 0., 0., 0., 0., 0., 0., 0., 0., 0., 0., 0.,\n       0., 0., 0., 0., 0., 0., 0., 0., 0., 0., 0., 0., 0., 0., 0., 0., 0.,\n       0., 0., 0., 0., 0., 0., 0., 0., 0., 0., 0., 0., 0., 0., 0., 0., 0.,\n       0., 0., 0., 0., 0., 0., 0., 0., 0., 0., 0., 0., 0., 0., 0., 0., 0.,\n       0., 0., 0., 0., 0., 0., 0., 0., 0., 0., 0., 0., 0., 0., 0., 0., 0.,\n       0., 0., 0., 0., 0., 0., 0., 0., 0., 0., 0., 0., 0., 0., 0., 0., 0.,\n       0., 0., 0., 0., 0., 0., 0., 0., 0., 0., 0., 0., 0., 0., 0., 0., 0.,\n       0., 0., 0., 0., 0., 0., 0., 0., 0., 0., 0., 0., 0., 0., 0., 0., 0.,\n       0., 0., 0., 0., 0., 0., 0., 0., 0., 0., 0., 0., 0., 0., 0., 0., 0.,\n       0., 0., 0., 0., 0., 0., 0., 0., 0., 0., 0., 0., 0., 0., 0., 0., 0.,\n       0., 0., 0., 0., 0., 0., 0., 0., 0., 0., 0., 0., 0., 0., 0., 0., 0.,\n       0., 0., 0., 0., 0., 0., 0., 0., 0., 0., 0., 0., 0., 0., 0., 0., 0.,\n       0., 0., 0., 0., 0., 0., 0., 0., 0., 0., 0., 0., 0., 0., 0., 0., 0.,\n       0., 0., 0., 0., 0., 0., 0., 0., 0., 0., 0., 0., 0., 0., 0., 0., 0.,\n       0., 0., 0., 0., 0., 0., 0., 0., 0., 0., 0., 0., 0., 0., 0., 0., 0.,\n       0., 0., 0., 0., 0., 0., 0., 0., 0., 0., 0., 0., 0., 0., 0., 0., 0.,\n       0., 0., 0., 0., 0.], dtype=float32)>))."
          ]
        }
      ],
      "source": [
        "model = init_model(X_train_bikes,y_train_bikes)\n",
        "if model.trainable:\n",
        "    print('yes')\n",
        "model,history = fit_model(model,X_train_bikes,y_train_bikes)\n"
      ]
    },
    {
      "cell_type": "code",
      "execution_count": null,
      "id": "b0ddded4",
      "metadata": {
        "id": "b0ddded4"
      },
      "outputs": [
        {
          "name": "stdout",
          "output_type": "stream",
          "text": [
            "157/157 [==============================] - 3s 20ms/step - loss: 0.4052 - mae: 0.2811\n"
          ]
        }
      ],
      "source": [
        "res =model.evaluate(X_test_bikes,y_test_bikes)"
      ]
    },
    {
      "cell_type": "code",
      "execution_count": null,
      "id": "669c4056",
      "metadata": {
        "id": "669c4056"
      },
      "outputs": [
        {
          "name": "stdout",
          "output_type": "stream",
          "text": [
            "157/157 [==============================] - 3s 19ms/step\n"
          ]
        }
      ],
      "source": [
        "y_pred = model.predict(X_test_bikes)"
      ]
    },
    {
      "cell_type": "code",
      "execution_count": null,
      "id": "G3QYE6M-Uy6I",
      "metadata": {
        "id": "G3QYE6M-Uy6I"
      },
      "outputs": [
        {
          "name": "stdout",
          "output_type": "stream",
          "text": [
            "0.2811\n",
            "[0.28, 0.28, 0.28, 0.28, 0.28, 0.28, 0.28, 0.28, 0.28, 0.28, 0.28, 0.28]\n"
          ]
        },
        {
          "data": {
            "image/png": "[encoded data removed]",
            "text/plain": [
              "<Figure size 640x480 with 1 Axes>"
            ]
          },
          "metadata": {},
          "output_type": "display_data"
        }
      ],
      "source": [
        "\n",
        "if not diff :\n",
        "    scaler.inverse_transform(y_test_bikes)\n",
        "    scaler.inverse_transform(y_pred)        \n",
        "\n",
        "model_mae = round(np.abs(y_test_bikes-y_pred).mean(),4)\n",
        "\n",
        "model_maes = []\n",
        "for i in range(y_pred.shape[1]):\n",
        "    model_maes.append(np.abs(y_test_bikes[:,i,:]-y_pred[:,i,:]).mean())\n",
        "\n",
        "print(model_mae)\n",
        "print(model_maes)\n",
        "plt.plot(model_maes, color='orange');\n",
        "plt.plot(maes);"
      ]
    },
    {
      "cell_type": "code",
      "execution_count": null,
      "id": "682a49a7",
      "metadata": {
        "id": "682a49a7"
      },
      "outputs": [
        {
          "data": {
            "text/plain": [
              "(5000, 12, 430)"
            ]
          },
          "execution_count": 36,
          "metadata": {},
          "output_type": "execute_result"
        }
      ],
      "source": [
        "y_pred.shape"
      ]
    },
    {
      "cell_type": "code",
      "execution_count": null,
      "id": "14c961c0",
      "metadata": {
        "id": "14c961c0"
      },
      "outputs": [
        {
          "data": {
            "text/plain": [
              "array([<AxesSubplot:title={'center':'MSE'}, xlabel='Epoch', ylabel='Loss'>,\n",
              "       <AxesSubplot:title={'center':'MAE'}, xlabel='Epoch', ylabel='MAE'>],\n",
              "      dtype=object)"
            ]
          },
          "execution_count": 37,
          "metadata": {},
          "output_type": "execute_result"
        },
        {
          "data": {
            "image/png": "[encoded data removed]",
            "text/plain": [
              "<Figure size 2000x700 with 2 Axes>"
            ]
          },
          "metadata": {},
          "output_type": "display_data"
        }
      ],
      "source": [
        "plot_history(history)"
      ]
    }
  ],
  "metadata": {
    "accelerator": "GPU",
    "colab": {
      "collapsed_sections": [
        "vSS5ikJv0lfk",
        "GS8-3PRJ0Cls",
        "dde48d5d"
      ],
      "provenance": []
    },
    "gpuClass": "standard",
    "kernelspec": {
      "display_name": "Python 3.10.6 64-bit ('shims')",
      "language": "python",
      "name": "python3"
    },
    "language_info": {
      "codemirror_mode": {
        "name": "ipython",
        "version": 3
      },
      "file_extension": ".py",
      "mimetype": "text/x-python",
      "name": "python",
      "nbconvert_exporter": "python",
      "pygments_lexer": "ipython3",
      "version": "3.10.6"
    },
    "toc": {
      "base_numbering": 1,
      "nav_menu": {},
      "number_sections": true,
      "sideBar": true,
      "skip_h1_title": false,
      "title_cell": "Table of Contents",
      "title_sidebar": "Contents",
      "toc_cell": false,
      "toc_position": {},
      "toc_section_display": true,
      "toc_window_display": false
    },
    "vscode": {
      "interpreter": {
        "hash": "79956488f5b85b3e124e2e76162f2dd546af42843d9be7c199947b0ae48c2851"
      }
    }
  },
  "nbformat": 4,
  "nbformat_minor": 5
}

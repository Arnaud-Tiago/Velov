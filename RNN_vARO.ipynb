{
  "cells": [
    {
      "cell_type": "code",
      "source": [
        "from google.colab import drive\n",
        "drive.mount('/content/drive')"
      ],
      "metadata": {
        "colab": {
          "base_uri": "https://localhost:8080/"
        },
        "id": "VpxbxCxVXTRU",
        "outputId": "199848f4-ff27-494d-d8da-aafd4b6321e0"
      },
      "id": "VpxbxCxVXTRU",
      "execution_count": 57,
      "outputs": [
        {
          "output_type": "stream",
          "name": "stdout",
          "text": [
            "Drive already mounted at /content/drive; to attempt to forcibly remount, call drive.mount(\"/content/drive\", force_remount=True).\n"
          ]
        }
      ]
    },
    {
      "cell_type": "code",
      "execution_count": 58,
      "id": "c3acd370",
      "metadata": {
        "id": "c3acd370",
        "colab": {
          "base_uri": "https://localhost:8080/"
        },
        "outputId": "17425e97-1766-41e8-e392-84beb38a0972"
      },
      "outputs": [
        {
          "output_type": "stream",
          "name": "stdout",
          "text": [
            "The autoreload extension is already loaded. To reload it, use:\n",
            "  %reload_ext autoreload\n"
          ]
        }
      ],
      "source": [
        "%load_ext autoreload\n",
        "%autoreload 2\n",
        "\n",
        "import numpy as np\n",
        "import pandas as pd\n",
        "import seaborn as sns\n",
        "import matplotlib.pyplot as plt\n",
        "\n",
        "from cleaning import get_clean_bikes_dataframe"
      ]
    },
    {
      "cell_type": "code",
      "execution_count": 59,
      "id": "cacf6cc8",
      "metadata": {
        "id": "cacf6cc8"
      },
      "outputs": [],
      "source": [
        "INPUT_LENGTH = int(1*12) # 1 hours * 12 stamps per hour"
      ]
    },
    {
      "cell_type": "markdown",
      "source": [
        "# Functions"
      ],
      "metadata": {
        "id": "vSS5ikJv0lfk"
      },
      "id": "vSS5ikJv0lfk"
    },
    {
      "cell_type": "code",
      "execution_count": 60,
      "id": "eb6ba1b3",
      "metadata": {
        "id": "eb6ba1b3"
      },
      "outputs": [],
      "source": [
        "def plot_history(history):\n",
        "    \n",
        "    fig, ax = plt.subplots(1,2, figsize=(20,7))\n",
        "    # --- LOSS: MSE --- \n",
        "    ax[0].plot(history.history['loss'])\n",
        "    ax[0].plot(history.history['val_loss'])\n",
        "    ax[0].set_title('MSE')\n",
        "    ax[0].set_ylabel('Loss')\n",
        "    ax[0].set_xlabel('Epoch')\n",
        "    ax[0].legend(['Train', 'Validation'], loc='best')\n",
        "    ax[0].grid(axis=\"x\",linewidth=0.5)\n",
        "    ax[0].grid(axis=\"y\",linewidth=0.5)\n",
        "    \n",
        "    # --- METRICS:MAE ---\n",
        "    \n",
        "    ax[1].plot(history.history['mae'])\n",
        "    ax[1].plot(history.history['val_mae'])\n",
        "    ax[1].set_title('MAE')\n",
        "    ax[1].set_ylabel('MAE')\n",
        "    ax[1].set_xlabel('Epoch')\n",
        "    ax[1].legend(['Train', 'Validation'], loc='best')\n",
        "    ax[1].grid(axis=\"x\",linewidth=0.5)\n",
        "    ax[1].grid(axis=\"y\",linewidth=0.5)\n",
        "                        \n",
        "    return ax"
      ]
    },
    {
      "cell_type": "code",
      "execution_count": 61,
      "id": "5c6458e9",
      "metadata": {
        "id": "5c6458e9"
      },
      "outputs": [],
      "source": [
        "def get_folds(\n",
        "    df: pd.DataFrame,\n",
        "    fold_length: int,\n",
        "    fold_stride: int):\n",
        "    '''\n",
        "    This function slides through the Time Series dataframe of shape (n_timesteps, n_features) to create folds\n",
        "    - of equal `fold_length`\n",
        "    - using `fold_stride` between each fold\n",
        "    \n",
        "    Returns a list of folds, each as a DataFrame\n",
        "    '''\n",
        "    folds = []\n",
        "    n_timesteps = df.shape[0]\n",
        "    n_folds = int((n_timesteps-fold_length)/fold_stride) + 1\n",
        "    print(f'There are {n_folds} folds.')\n",
        "    for i in range(n_folds):\n",
        "        folds.append(df.iloc[i*fold_stride:i*(fold_stride)+fold_length])\n",
        "    return folds\n"
      ]
    },
    {
      "cell_type": "code",
      "execution_count": 62,
      "id": "69e18fc2",
      "metadata": {
        "id": "69e18fc2"
      },
      "outputs": [],
      "source": [
        "def train_test_split(fold:pd.DataFrame,\n",
        "                     train_test_ratio: float,\n",
        "                     input_length: int) :\n",
        "    '''\n",
        "    Returns a train dataframe and a test dataframe (fold_train, fold_test)\n",
        "    from which one can sample (X,y) sequences.\n",
        "    df_train should contain all the timesteps until round(train_test_ratio * len(fold))   \n",
        "    '''\n",
        "    print(f'The train split contains {round(train_test_ratio*len(fold))} observations and the test split {round((1-train_test_ratio)*len(fold))} observations.')\n",
        "    fold_train = fold.iloc[0 : round(train_test_ratio * len(fold))]\n",
        "    fold_test = fold.iloc[round(train_test_ratio*len(fold))-input_length:]\n",
        "    return (fold_train,fold_test)"
      ]
    },
    {
      "cell_type": "code",
      "execution_count": 63,
      "id": "09ae1355",
      "metadata": {
        "id": "09ae1355"
      },
      "outputs": [],
      "source": [
        "def get_Xi_yi(\n",
        "    fold:pd.DataFrame, \n",
        "    input_length:int, \n",
        "    output_length:int):\n",
        "    '''\n",
        "    - given a fold, it returns one sequence (X_i, y_i)\n",
        "    - with the starting point of the sequence being chosen at random\n",
        "    '''\n",
        "    # $CHALLENGIFY_BEGIN\n",
        "    first_possible_start = 0\n",
        "    last_possible_start = len(fold) - (input_length + output_length) + 1\n",
        "    random_start = np.random.randint(first_possible_start, last_possible_start)\n",
        "    X_i = fold.iloc[random_start:random_start+input_length]  \n",
        "    y_i = fold.iloc[random_start+input_length:\n",
        "                  random_start+input_length+output_length]\n",
        "    \n",
        "    return (X_i, y_i)"
      ]
    },
    {
      "cell_type": "code",
      "execution_count": 64,
      "id": "d7a07208",
      "metadata": {
        "id": "d7a07208"
      },
      "outputs": [],
      "source": [
        "def get_X_y(\n",
        "    fold:pd.DataFrame,\n",
        "    number_of_sequences:int,\n",
        "    input_length:int,\n",
        "    output_length:int\n",
        "):\n",
        "    X = []\n",
        "    y=[]\n",
        "    for i in range(number_of_sequences):\n",
        "        (X_i,y_i)= get_Xi_yi(bikes_fold_test, input_length,output_length)\n",
        "        X.append(X_i)\n",
        "        y.append(y_i)\n",
        "    return(np.array(X),np.array(y))"
      ]
    },
    {
      "cell_type": "code",
      "source": [
        "class MinMaxNormalization():\n",
        "    '''MinMax Normalization --> [0, 1]\n",
        "       x = (x - min) / (max - min).\n",
        "    '''\n",
        "    def __init__(self):\n",
        "        pass\n",
        "    def fit(self, X):\n",
        "        maxs = []\n",
        "        for i in range (X.shape[2]):\n",
        "            x_v = X[:,:,i]\n",
        "            maxs.append(x_v.max())\n",
        "        self._maxs = maxs\n",
        "        # print(\"min:\", self._min, \"max:\", self._max)\n",
        "    def transform(self, X):\n",
        "        for i in range (X.shape[2]):\n",
        "            if not self._maxs[i] ==0:\n",
        "                X[:,:,i] = X[:,:,i] / self._maxs[i]\n",
        "        return X\n",
        "    def fit_transform(self, X):\n",
        "        self.fit(X)\n",
        "        return self.transform(X)\n",
        "    def inverse_transform(self, X):\n",
        "        # X = (X + 1.) / 2.\n",
        "        for i in range (X.shape[2]):\n",
        "            X[:,:,i] = X[:,:,i] * self._maxs[i]\n",
        "        return X\n"
      ],
      "metadata": {
        "id": "QYtUrUqL48Vk"
      },
      "id": "QYtUrUqL48Vk",
      "execution_count": 65,
      "outputs": []
    },
    {
      "cell_type": "markdown",
      "source": [
        "# Data Loading"
      ],
      "metadata": {
        "id": "GS8-3PRJ0Cls"
      },
      "id": "GS8-3PRJ0Cls"
    },
    {
      "cell_type": "code",
      "execution_count": 66,
      "id": "3ed85b43",
      "metadata": {
        "id": "3ed85b43"
      },
      "outputs": [],
      "source": [
        "bikes_df = pd.read_csv('bikes_df.csv').drop(columns='Unnamed: 0')\n",
        "\n",
        "# stands_df = get_clean_stands_dataframe()"
      ]
    },
    {
      "cell_type": "code",
      "execution_count": 67,
      "id": "da78bada",
      "metadata": {
        "id": "da78bada"
      },
      "outputs": [],
      "source": [
        "step = 5\n",
        "step_str = f'{step}min'\n",
        "\n",
        "bikes_df=bikes_df.sort_values(by=\"time\")\n",
        "bikes_df['time']=pd.to_datetime(bikes_df['time'])\n",
        "bikes_df = bikes_df.resample(step_str, on='time').mean()\n"
      ]
    },
    {
      "cell_type": "markdown",
      "id": "dde48d5d",
      "metadata": {
        "id": "dde48d5d"
      },
      "source": [
        "# Folding"
      ]
    },
    {
      "cell_type": "code",
      "execution_count": 68,
      "id": "c75b4d57",
      "metadata": {
        "id": "c75b4d57"
      },
      "outputs": [],
      "source": [
        "FOLD_LENGTH = bikes_df.shape[0] # int(24 * 12 * 61) # 24 hours per day, 12 stamps per hour, 61 days\n",
        "    \n",
        "FOLD_STRIDE = 1 #int(24 * 12 * 7) # 1 week\n",
        "\n",
        "TRAIN_TEST_RATIO = 0.66"
      ]
    },
    {
      "cell_type": "code",
      "execution_count": 69,
      "id": "24be5a13",
      "metadata": {
        "colab": {
          "base_uri": "https://localhost:8080/"
        },
        "id": "24be5a13",
        "outputId": "b788f8a5-7d31-4d47-b726-5a90ea9d644c"
      },
      "outputs": [
        {
          "output_type": "stream",
          "name": "stdout",
          "text": [
            "There are 1 folds.\n"
          ]
        }
      ],
      "source": [
        "bikes_folds = get_folds(bikes_df, FOLD_LENGTH, FOLD_STRIDE)"
      ]
    },
    {
      "cell_type": "code",
      "execution_count": 70,
      "id": "5922f021",
      "metadata": {
        "colab": {
          "base_uri": "https://localhost:8080/"
        },
        "id": "5922f021",
        "outputId": "28f500dd-a552-4036-b31e-3fe91c89ac00"
      },
      "outputs": [
        {
          "output_type": "execute_result",
          "data": {
            "text/plain": [
              "(43718, 1, 12)"
            ]
          },
          "metadata": {},
          "execution_count": 70
        }
      ],
      "source": [
        "FOLD_LENGTH, FOLD_STRIDE, INPUT_LENGTH"
      ]
    },
    {
      "cell_type": "code",
      "execution_count": 71,
      "id": "113361af",
      "metadata": {
        "id": "113361af"
      },
      "outputs": [],
      "source": [
        "bikes_fold = bikes_folds[0]"
      ]
    },
    {
      "cell_type": "code",
      "execution_count": 72,
      "id": "992927ec",
      "metadata": {
        "scrolled": true,
        "colab": {
          "base_uri": "https://localhost:8080/"
        },
        "id": "992927ec",
        "outputId": "19eb05f1-6d35-4654-8e74-ffac905b37b7"
      },
      "outputs": [
        {
          "output_type": "stream",
          "name": "stdout",
          "text": [
            "The train split contains 28854 observations and the test split 14864 observations.\n"
          ]
        }
      ],
      "source": [
        "(bikes_fold_train, bikes_fold_test) = train_test_split(bikes_fold, TRAIN_TEST_RATIO, INPUT_LENGTH)"
      ]
    },
    {
      "cell_type": "code",
      "execution_count": 73,
      "id": "975942f6",
      "metadata": {
        "id": "975942f6"
      },
      "outputs": [],
      "source": [
        "OUTPUT_LENGTH = INPUT_LENGTH\n",
        "SEQUENCE_STRIDE = 1"
      ]
    },
    {
      "cell_type": "code",
      "execution_count": 74,
      "id": "5b23d510",
      "metadata": {
        "colab": {
          "base_uri": "https://localhost:8080/",
          "height": 0
        },
        "id": "5b23d510",
        "outputId": "f4bd0179-d380-4613-d739-496ea965e00d"
      },
      "outputs": [
        {
          "output_type": "execute_result",
          "data": {
            "text/plain": [
              "'\\n\\nX_train = np.array(pd.DataFrame(X_train_bikes[0]).transpose())\\nX_test = np.array(pd.DataFrame(X_test_bikes[0]).transpose())\\ny_train = np.array(pd.DataFrame(y_train_bikes[0]).transpose())\\ny_test = np.array(pd.DataFrame(y_test_bikes[0]).transpose())\\n\\nX_train = X_train.reshape((430,INPUT_LENGTH,1))\\nX_test = X_test.reshape((430,INPUT_LENGTH,1))\\ny_train = y_train.reshape((430,OUTPUT_LENGTH))\\ny_test = y_test.reshape((430,OUTPUT_LENGTH))\\n\\nprint(X_train.shape, y_train.shape, X_test.shape, y_test.shape) \\n\\n'"
            ],
            "application/vnd.google.colaboratory.intrinsic+json": {
              "type": "string"
            }
          },
          "metadata": {},
          "execution_count": 74
        }
      ],
      "source": [
        "# Pour passer en v Station = Sequence\n",
        "\n",
        "\"\"\"\n",
        "\n",
        "X_train = np.array(pd.DataFrame(X_train_bikes[0]).transpose())\n",
        "X_test = np.array(pd.DataFrame(X_test_bikes[0]).transpose())\n",
        "y_train = np.array(pd.DataFrame(y_train_bikes[0]).transpose())\n",
        "y_test = np.array(pd.DataFrame(y_test_bikes[0]).transpose())\n",
        "\n",
        "X_train = X_train.reshape((430,INPUT_LENGTH,1))\n",
        "X_test = X_test.reshape((430,INPUT_LENGTH,1))\n",
        "y_train = y_train.reshape((430,OUTPUT_LENGTH))\n",
        "y_test = y_test.reshape((430,OUTPUT_LENGTH))\n",
        "\n",
        "print(X_train.shape, y_train.shape, X_test.shape, y_test.shape) \n",
        "\n",
        "\"\"\""
      ]
    },
    {
      "cell_type": "markdown",
      "source": [
        "# Train/Test split\n"
      ],
      "metadata": {
        "id": "fOzd784zWGyX"
      },
      "id": "fOzd784zWGyX"
    },
    {
      "cell_type": "code",
      "execution_count": 75,
      "id": "61507021",
      "metadata": {
        "id": "61507021"
      },
      "outputs": [],
      "source": [
        "N_TRAIN = 20000 # number_of_sequences_train\n",
        "N_TEST =  5000 # number_of_sequences_test"
      ]
    },
    {
      "cell_type": "code",
      "execution_count": 76,
      "id": "16105cc0",
      "metadata": {
        "colab": {
          "base_uri": "https://localhost:8080/"
        },
        "id": "16105cc0",
        "outputId": "d9a05221-0be4-41c3-cf5e-851307628d9d"
      },
      "outputs": [
        {
          "output_type": "execute_result",
          "data": {
            "text/plain": [
              "((20000, 12, 430), (20000, 12, 430), (5000, 12, 430), (5000, 12, 430))"
            ]
          },
          "metadata": {},
          "execution_count": 76
        }
      ],
      "source": [
        "X_train_bikes, y_train_bikes = get_X_y(bikes_fold_train, N_TRAIN, INPUT_LENGTH, OUTPUT_LENGTH)\n",
        "X_test_bikes, y_test_bikes = get_X_y(bikes_fold_test, N_TEST, INPUT_LENGTH, OUTPUT_LENGTH)\n",
        "\n",
        "X_train_bikes.shape, y_train_bikes.shape, X_test_bikes.shape, y_test_bikes.shape"
      ]
    },
    {
      "cell_type": "markdown",
      "source": [
        "# Baseline Model "
      ],
      "metadata": {
        "id": "v6FAGMmm0-Vb"
      },
      "id": "v6FAGMmm0-Vb"
    },
    {
      "cell_type": "code",
      "source": [
        "y_base_bikes = []\n",
        "for i in range(y_test_bikes.shape[0]):\n",
        "    y_base_bikes.append([X_test_bikes[i,-1:,:]]*y_test_bikes.shape[1])\n",
        "\n",
        "y_base_bikes = np.array(y_base_bikes).reshape((y_test_bikes.shape[0],y_test_bikes.shape[1],y_test_bikes.shape[2]))\n",
        "y_base_bikes.shape"
      ],
      "metadata": {
        "colab": {
          "base_uri": "https://localhost:8080/"
        },
        "id": "BLmB3Cfn1CN9",
        "outputId": "27e18d4b-aab0-4cf4-ad1c-49471e90a621"
      },
      "id": "BLmB3Cfn1CN9",
      "execution_count": 77,
      "outputs": [
        {
          "output_type": "execute_result",
          "data": {
            "text/plain": [
              "(5000, 12, 430)"
            ]
          },
          "metadata": {},
          "execution_count": 77
        }
      ]
    },
    {
      "cell_type": "code",
      "source": [
        "mae = round(np.abs(y_test_bikes-y_base_bikes).mean(),4)\n",
        "mae"
      ],
      "metadata": {
        "colab": {
          "base_uri": "https://localhost:8080/"
        },
        "id": "-31qhGev1PzM",
        "outputId": "a4794a15-ab7a-4409-b86e-dc7aecfd9900"
      },
      "id": "-31qhGev1PzM",
      "execution_count": 78,
      "outputs": [
        {
          "output_type": "execute_result",
          "data": {
            "text/plain": [
              "0.9336"
            ]
          },
          "metadata": {},
          "execution_count": 78
        }
      ]
    },
    {
      "cell_type": "code",
      "source": [
        "maes = []\n",
        "\n",
        "for i in range(y_base_bikes.shape[1]):\n",
        "    maes.append(np.round(np.abs(y_test_bikes[:,i,:]-y_base_bikes[:,i,:]).mean(),2))\n",
        "\n",
        "print(maes)\n",
        "plt.plot(maes);"
      ],
      "metadata": {
        "colab": {
          "base_uri": "https://localhost:8080/",
          "height": 282
        },
        "id": "PKFofYlt3Smc",
        "outputId": "e411c780-a802-44c1-e10e-78f9022bc722"
      },
      "id": "PKFofYlt3Smc",
      "execution_count": 79,
      "outputs": [
        {
          "output_type": "stream",
          "name": "stdout",
          "text": [
            "[0.25, 0.43, 0.58, 0.71, 0.82, 0.93, 1.03, 1.12, 1.21, 1.3, 1.38, 1.45]\n"
          ]
        },
        {
          "output_type": "display_data",
          "data": {
            "text/plain": [
              "<Figure size 432x288 with 1 Axes>"
            ],
            "image/png": "[encoded data removed]"
          },
          "metadata": {
            "needs_background": "light"
          }
        }
      ]
    },
    {
      "cell_type": "markdown",
      "source": [
        "# Modelling"
      ],
      "metadata": {
        "id": "Q316FJW405w8"
      },
      "id": "Q316FJW405w8"
    },
    {
      "cell_type": "code",
      "source": [
        "scaler = MinMaxNormalization()\n",
        "scaler.fit_transform(X_train_bikes)\n",
        "scaler.transform(y_train_bikes)\n",
        "scaler.transform(X_test_bikes)\n",
        "scaler.transform(y_test_bikes)\n",
        "print(f\"X_train : Shape {X_train_bikes.shape}, min {X_train_bikes.min()}, max {X_train_bikes.max()}\")\n",
        "print(f\"y_train : Shape {y_train_bikes.shape}, min {y_train_bikes.min()}, max {y_train_bikes.max()}\")\n",
        "print(f\"X_test : Shape {X_test_bikes.shape}, min {X_test_bikes.min()}, max {X_test_bikes.max()}\")\n",
        "print(f\"y_test : Shape {y_test_bikes.shape}, min {y_test_bikes.min()}, max {y_test_bikes.max()}\")"
      ],
      "metadata": {
        "colab": {
          "base_uri": "https://localhost:8080/"
        },
        "id": "Uj7fpWKu_QZ9",
        "outputId": "7d7c27eb-246d-4cda-af90-fe8762462d1e"
      },
      "id": "Uj7fpWKu_QZ9",
      "execution_count": 80,
      "outputs": [
        {
          "output_type": "stream",
          "name": "stdout",
          "text": [
            "X_train : Shape (20000, 12, 430), min 0.0, max 1.0\n",
            "y_train : Shape (20000, 12, 430), min 0.0, max 1.0416666666666667\n",
            "X_test : Shape (5000, 12, 430), min 0.0, max 1.0\n",
            "y_test : Shape (5000, 12, 430), min 0.0, max 1.0416666666666667\n"
          ]
        }
      ]
    },
    {
      "cell_type": "code",
      "source": [
        "scaler.transform(y_base_bikes)\n",
        "scaled_base_mae = round(np.abs(y_test_bikes-y_base_bikes).mean(),4)\n",
        "scaled_base_mae\n"
      ],
      "metadata": {
        "colab": {
          "base_uri": "https://localhost:8080/"
        },
        "id": "lX7KL46LqqO8",
        "outputId": "7cefcef7-4674-4626-8bc2-b7eb6ac57008"
      },
      "id": "lX7KL46LqqO8",
      "execution_count": 81,
      "outputs": [
        {
          "output_type": "execute_result",
          "data": {
            "text/plain": [
              "0.0458"
            ]
          },
          "metadata": {},
          "execution_count": 81
        }
      ]
    },
    {
      "cell_type": "code",
      "source": [
        "stop"
      ],
      "metadata": {
        "colab": {
          "base_uri": "https://localhost:8080/",
          "height": 165
        },
        "id": "zJWK9zLtrGAR",
        "outputId": "3d7cafb6-f50d-4bd8-ef71-8a5a733b95dd"
      },
      "id": "zJWK9zLtrGAR",
      "execution_count": 82,
      "outputs": [
        {
          "output_type": "error",
          "ename": "NameError",
          "evalue": "ignored",
          "traceback": [
            "\u001b[0;31m---------------------------------------------------------------------------\u001b[0m",
            "\u001b[0;31mNameError\u001b[0m                                 Traceback (most recent call last)",
            "\u001b[0;32m<ipython-input-82-4f76a9dad686>\u001b[0m in \u001b[0;36m<module>\u001b[0;34m\u001b[0m\n\u001b[0;32m----> 1\u001b[0;31m \u001b[0mstop\u001b[0m\u001b[0;34m\u001b[0m\u001b[0;34m\u001b[0m\u001b[0m\n\u001b[0m",
            "\u001b[0;31mNameError\u001b[0m: name 'stop' is not defined"
          ]
        }
      ]
    },
    {
      "cell_type": "code",
      "execution_count": null,
      "id": "f2a4d5ea",
      "metadata": {
        "id": "f2a4d5ea"
      },
      "outputs": [],
      "source": [
        "\n",
        "from tensorflow.keras import models\n",
        "from tensorflow.keras import layers\n",
        "from tensorflow.keras import optimizers, metrics\n",
        "from tensorflow.keras.models import Sequential\n",
        "\n",
        "\n",
        "\n",
        "def init_model(X_train, y_train):\n",
        "\n",
        "    model = Sequential([\n",
        "        layers.GRU(units=512, input_shape = (X_train.shape[1],X_train.shape[2]), activation='tanh', return_sequences=True),\n",
        "        #layers.Dropout(0.2),\n",
        "        layers.GRU(units=512, activation='tanh', return_sequences=True),\n",
        "        #layers.Dropout(0.2),\n",
        "        layers.Dense(256,activation = 'relu'),\n",
        "        #layers.Dropout(0.2),\n",
        "        layers.Dense(256,activation = 'relu'),\n",
        "        #layers.Dropout(0.2),\n",
        "        #layers.Dense(64,activation = 'relu'),\n",
        "        layers.Dense(y_train.shape[2], activation='linear')  \n",
        "    ])\n",
        "    adam = optimizers.Adam(learning_rate=0.001)\n",
        "    model.compile(loss = 'mse', optimizer = adam, metrics = ['mae'])\n",
        "    \n",
        "    return model"
      ]
    },
    {
      "cell_type": "code",
      "execution_count": null,
      "id": "bef522dc",
      "metadata": {
        "id": "bef522dc"
      },
      "outputs": [],
      "source": [
        "model = init_model(X_train_bikes, y_train_bikes)\n",
        "model.summary()"
      ]
    },
    {
      "cell_type": "code",
      "execution_count": null,
      "id": "34bf954f",
      "metadata": {
        "id": "34bf954f"
      },
      "outputs": [],
      "source": [
        "from tensorflow.keras.callbacks import EarlyStopping\n",
        "\n",
        "def fit_model(model,X,y):\n",
        "    es = EarlyStopping(patience=50,restore_best_weights = True)\n",
        "    history = model.fit(X,y,epochs = 2000,callbacks=es,batch_size=32, validation_split=0.3)\n",
        "    return(model,history)"
      ]
    },
    {
      "cell_type": "code",
      "execution_count": null,
      "id": "4ec09b0b",
      "metadata": {
        "id": "4ec09b0b"
      },
      "outputs": [],
      "source": [
        "model = init_model(X_train_bikes,y_train_bikes)\n",
        "model,history = fit_model(model,X_train_bikes,y_train_bikes)"
      ]
    },
    {
      "cell_type": "code",
      "execution_count": null,
      "id": "b0ddded4",
      "metadata": {
        "id": "b0ddded4"
      },
      "outputs": [],
      "source": [
        "res =model.evaluate(X_test_bikes,y_test_bikes)"
      ]
    },
    {
      "cell_type": "code",
      "execution_count": null,
      "id": "669c4056",
      "metadata": {
        "id": "669c4056"
      },
      "outputs": [],
      "source": [
        "y_pred = model.predict(X_test_bikes)"
      ]
    },
    {
      "cell_type": "code",
      "source": [
        "scaler.inverse_transform(y_test_bikes)\n",
        "scaler.inverse_transform(y_pred)        \n",
        "\n",
        "model_mae = round(np.abs(y_test_bikes-y_pred).mean(),4)\n",
        "model_maes = []\n",
        "\n",
        "for i in range(y_pred.shape[1]):\n",
        "    model_maes.append(np.round(np.abs(y_test_bikes[:,i,:]-y_pred_bikes[:,i,:]).mean(),2))\n",
        "\n",
        "print(model_mae)\n",
        "print(model_maes)\n",
        "plt.plot(model_maes, color='orange');\n",
        "plt.plot(maes);"
      ],
      "metadata": {
        "id": "G3QYE6M-Uy6I"
      },
      "id": "G3QYE6M-Uy6I",
      "execution_count": null,
      "outputs": []
    },
    {
      "cell_type": "code",
      "execution_count": null,
      "id": "682a49a7",
      "metadata": {
        "id": "682a49a7"
      },
      "outputs": [],
      "source": [
        "y_pred.shape"
      ]
    },
    {
      "cell_type": "code",
      "execution_count": null,
      "id": "14c961c0",
      "metadata": {
        "id": "14c961c0"
      },
      "outputs": [],
      "source": [
        "plot_history(history)"
      ]
    }
  ],
  "metadata": {
    "kernelspec": {
      "display_name": "Python 3.10.6 64-bit ('shims')",
      "language": "python",
      "name": "python3"
    },
    "language_info": {
      "codemirror_mode": {
        "name": "ipython",
        "version": 3
      },
      "file_extension": ".py",
      "mimetype": "text/x-python",
      "name": "python",
      "nbconvert_exporter": "python",
      "pygments_lexer": "ipython3",
      "version": "3.10.6"
    },
    "toc": {
      "base_numbering": 1,
      "nav_menu": {},
      "number_sections": true,
      "sideBar": true,
      "skip_h1_title": false,
      "title_cell": "Table of Contents",
      "title_sidebar": "Contents",
      "toc_cell": false,
      "toc_position": {},
      "toc_section_display": true,
      "toc_window_display": false
    },
    "vscode": {
      "interpreter": {
        "hash": "79956488f5b85b3e124e2e76162f2dd546af42843d9be7c199947b0ae48c2851"
      }
    },
    "colab": {
      "provenance": [],
      "collapsed_sections": [
        "vSS5ikJv0lfk",
        "GS8-3PRJ0Cls",
        "dde48d5d"
      ]
    },
    "accelerator": "GPU",
    "gpuClass": "standard"
  },
  "nbformat": 4,
  "nbformat_minor": 5
}